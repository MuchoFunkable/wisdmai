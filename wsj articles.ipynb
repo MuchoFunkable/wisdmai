{
 "cells": [
  {
   "cell_type": "code",
   "execution_count": 12,
   "id": "5c7d552d",
   "metadata": {},
   "outputs": [
    {
     "name": "stdout",
     "output_type": "stream",
     "text": [
      "U.S. Economy Shrank Last Quarter - https://www.wsj.com/articles/us-q2-gdp-growth-economy-11658981184\n",
      "Recession or Not, the Recovery Has Ended - https://www.wsj.com/articles/recession-or-not-the-recovery-has-ended-11659031090\n",
      "Manchin-Schumer Deal Would Have Moderate Inflation-Fighting Effect, Economists Say - https://www.wsj.com/articles/manchin-schumer-deal-would-have-moderate-inflation-fighting-effect-economists-say-11659039488\n",
      "Biden Faces Recession Worries After Six Months of Economic Contraction - https://www.wsj.com/articles/biden-faces-recession-worries-after-six-months-of-economic-contraction-11659015292\n",
      "Jobless Claims Hold Near Highest Level of the Year - https://www.wsj.com/articles/jobless-claims-hold-near-highest-level-of-the-year-11659013014\n",
      "Democrats Ready Carried-Interest Tax Hike After 15-Year Lobbying Campaign - https://www.wsj.com/articles/democrats-ready-carried-interest-tax-hike-after-15-year-lobbying-campaign-11659029989\n",
      "Eurozone Recovery Picks Up Speed but Ukraine War Poses Threat - https://www.wsj.com/articles/eurozone-recovery-picks-up-speed-but-ukraine-war-threatens-deep-contractions-11659087222\n",
      "Growth in Pay, Benefits for U.S. Workers Estimated to Have Cooled in Spring  - https://www.wsj.com/articles/us-employers-labor-costs-inflation-q2-2022-11659061404\n",
      "Consumer Spending Projected to Have Picked Up Pace - https://www.wsj.com/articles/inflation-consumer-spending-personal-income-june-2022-11659059583\n",
      "Bankrupt Crypto Brokerage Voyager Ordered to Cease False Promises About U.S. Banking Insurance - https://www.wsj.com/articles/bankrupt-crypto-brokerage-voyager-ordered-to-cease-false-promises-about-u-s-banking-insurance-11659044094\n",
      "Are We in a Recession Now? - https://www.wsj.com/articles/what-is-a-recession-and-are-we-in-one-now-11655392738\n",
      "Inventory Swing Is a Key Culprit Behind U.S. Recession Talk  - https://www.wsj.com/articles/inventory-swing-is-a-key-culprit-behind-u-s-recession-talk-11658941356\n",
      "Fed Lifts Rates by 0.75 Point Again - https://www.wsj.com/articles/fed-raises-interest-rates-by-0-75-percentage-point-11658944935\n",
      "Orders for Big-Ticket Items Rose in June - https://www.wsj.com/articles/orders-for-vehicles-other-big-ticket-items-rose-in-june-11658926794\n",
      "The Free-Trade Case Against Subsidies and Tariffs Changes When China Is Involved - https://www.wsj.com/articles/the-free-trade-case-against-subsidies-and-tariffs-changes-when-china-is-involved-11658925419\n",
      "What Is Stagflation? What to Know About the Combination of High Inflation and Stagnating Economic Growth - https://www.wsj.com/articles/what-is-stagflation-meaning-explained-global-economy-worldbank-11654723092\n"
     ]
    }
   ],
   "source": [
    "from bs4 import BeautifulSoup\n",
    "import requests\n",
    "\n",
    "url = \"https://www.wsj.com/news/economy\"\n",
    "# Specify the `user-agent` inorder not to be blocked\n",
    "headers = {\n",
    "    \"user-agent\": \"Mozilla/5.0 (Windows NT 10.0; Win64; x64) AppleWebKit/537.36 (KHTML, like Gecko) Chrome/90.0.4430.93 Safari/537.36\"\n",
    "}\n",
    "\n",
    "response = requests.get(url, headers=headers)\n",
    "\n",
    "soup = BeautifulSoup(response.content, \"lxml\")\n",
    "\n",
    "for item in soup.select(\".WSJTheme--headline--7VCzo7Ay\"):\n",
    "    # Articles might be under an `h2` or `h3`, use a CSS selector to select both\n",
    "    headline = item.select_one(\"h2, h3\").get_text()\n",
    "    link = item.find(\"a\")[\"href\"]\n",
    "    noticia = headline + \" - \" + link\n",
    "\n",
    "    print(noticia)"
   ]
  },
  {
   "cell_type": "code",
   "execution_count": 11,
   "id": "f1c4c2eb",
   "metadata": {},
   "outputs": [
    {
     "name": "stdout",
     "output_type": "stream",
     "text": [
      "\n",
      "This copy is for your personal, non-commercial use only. Distribution and use of this material are governed by\n",
      "our Subscriber Agreement and by copyright law. For non-personal use or to order multiple copies, please contact\n",
      "Dow Jones Reprints at 1-800-843-0008 or visit www.djreprints.com.\n",
      "\n",
      "\n",
      "\n",
      "https://www.wsj.com/articles/SB120584797987545053\n",
      "\n",
      "\n",
      "Crude-oil futures ended 3.5% higher after the Federal Reserve's interest-rate reduction prompted a late-session surge.\n",
      "\n",
      "\n",
      "Light, sweet crude for April delivery settled at $109.42 a barrel on the New York Mercantile Exchange, a gain of $3.74 for the day. The contract expires today. The day's gains nearly erased Monday's drop, which was the biggest one-day percentage loss since August.\n",
      "\n",
      "\n",
      "Continue reading your article witha WSJ membership\n",
      "\n",
      "\n",
      "WSJ Membership\n",
      "\n",
      "\n",
      "Customer Service\n",
      "\n",
      "\n",
      "Tools & Features\n",
      "\n",
      "\n",
      "Ads\n",
      "\n",
      "\n",
      "More\n",
      "\n",
      "\n",
      "Dow Jones Products\n",
      "\n",
      "\n",
      "WSJ Membership\n",
      "\n",
      "\n",
      "Customer Service\n",
      "\n",
      "\n",
      "Tools & Features\n",
      "\n",
      "\n",
      "Ads\n",
      "\n",
      "\n",
      "More\n",
      "\n",
      "\n",
      "Copyright ©2022 Dow Jones & Company, Inc. All Rights Reserved\n",
      "\n",
      "\n",
      "\n",
      "This copy is for your personal, non-commercial use only. Distribution and use of this material are governed by\n",
      "our Subscriber Agreement and by copyright law. For non-personal use or to order multiple copies, please contact\n",
      "Dow Jones Reprints at 1-800-843-0008 or visit www.djreprints.com.\n",
      "\n",
      "\n",
      "\n"
     ]
    }
   ],
   "source": [
    "import requests\n",
    "from bs4 import BeautifulSoup\n",
    "\n",
    "url = 'https://www.wsj.com/articles/SB120584797987545053'\n",
    "headers = {'User-Agent': 'Mozilla/5.0 (X11; Ubuntu; Linux x86_64; rv:80.0) Gecko/20100101 Firefox/80.0'}\n",
    "\n",
    "soup = BeautifulSoup(requests.get(url, headers=headers).content, 'html.parser')\n",
    "\n",
    "tags = soup('p')\n",
    "for tag in tags:\n",
    "    print(tag.get_text() + '\\n' + '\\n')"
   ]
  },
  {
   "cell_type": "code",
   "execution_count": null,
   "id": "2837e6e8",
   "metadata": {},
   "outputs": [],
   "source": []
  }
 ],
 "metadata": {
  "kernelspec": {
   "display_name": "Python 3 (ipykernel)",
   "language": "python",
   "name": "python3"
  },
  "language_info": {
   "codemirror_mode": {
    "name": "ipython",
    "version": 3
   },
   "file_extension": ".py",
   "mimetype": "text/x-python",
   "name": "python",
   "nbconvert_exporter": "python",
   "pygments_lexer": "ipython3",
   "version": "3.9.13"
  }
 },
 "nbformat": 4,
 "nbformat_minor": 5
}
