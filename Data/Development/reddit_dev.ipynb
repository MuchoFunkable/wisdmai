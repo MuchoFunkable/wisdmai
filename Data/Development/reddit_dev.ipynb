{
 "cells": [
  {
   "cell_type": "code",
   "execution_count": 5,
   "metadata": {},
   "outputs": [],
   "source": [
    "import praw\n",
    "import pandas as pd\n",
    "from datetime import datetime\n",
    "from praw.models import MoreComments"
   ]
  },
  {
   "cell_type": "markdown",
   "metadata": {},
   "source": [
    "# TODO  \n",
    "- update script to work with praw.ini configuration \n",
    "- decide on which version to use \n",
    "- do preprocessing on text data "
   ]
  },
  {
   "cell_type": "markdown",
   "metadata": {},
   "source": [
    "# Reddit Instance"
   ]
  },
  {
   "cell_type": "code",
   "execution_count": 6,
   "metadata": {},
   "outputs": [],
   "source": [
    "# Creates Reddit user instance \n",
    "# Connects to Reddit using Wisdm account\n",
    "\n",
    "\n",
    "reddit = praw.Reddit(\n",
    "    client_id=\"auD_kIwyQ1r3hfxTQEYuGw\",\n",
    "    client_secret=\"XyLGeMB1mJqoaB0lCXrk4Jtmy515AA\",\n",
    "    password=\"wisdmai1234\",\n",
    "    user_agent=\"wisdm\",\n",
    "    username=\"Dramatic-Ad-9651\",\n",
    "    check_for_async=False\n",
    ")"
   ]
  },
  {
   "cell_type": "code",
   "execution_count": 41,
   "metadata": {},
   "outputs": [
    {
     "name": "stdout",
     "output_type": "stream",
     "text": [
      "Dramatic-Ad-9651\n"
     ]
    }
   ],
   "source": [
    "# make sure we're connected to the api\n",
    "print(reddit.user.me())"
   ]
  },
  {
   "cell_type": "code",
   "execution_count": 8,
   "metadata": {},
   "outputs": [
    {
     "data": {
      "text/plain": [
       "['VIX', 'BBBY', 'SNDL', 'AMD', 'PYPL']"
      ]
     },
     "execution_count": 8,
     "metadata": {},
     "output_type": "execute_result"
    }
   ],
   "source": [
    "#tickers \n",
    "tickers = list(set(['SPY','TSLA','PYPL', 'GME', 'VIX', \n",
    "                    'AMD', 'F', 'BBBY', 'NFLX', 'NVDA', \n",
    "                    'AAPL', 'INTC', 'FSR', 'QQQ', 'TLRY',\n",
    "                     'MSFT', 'TWTR', 'SNAP', 'HOOD', 'WMT', \n",
    "                     'PTON', 'WISH', 'CPRX', 'AMC', 'SNDL', \n",
    "                     'AMZN', 'DIS', 'NIO', 'FB', 'NFLX', 'LCID', 'NVDA']))\n",
    "\n",
    "tickers[0:5]\n"
   ]
  },
  {
   "cell_type": "code",
   "execution_count": 40,
   "metadata": {},
   "outputs": [
    {
     "data": {
      "text/plain": [
       "['wallstreetbets', 'stocks', 'investing', 'finance']"
      ]
     },
     "execution_count": 40,
     "metadata": {},
     "output_type": "execute_result"
    }
   ],
   "source": [
    "subreddits = [ 'wallstreetbets', 'stocks',  'investing', 'finance']\n",
    "subreddits"
   ]
  },
  {
   "cell_type": "markdown",
   "metadata": {},
   "source": [
    "# Subreddit"
   ]
  },
  {
   "cell_type": "code",
   "execution_count": 11,
   "metadata": {},
   "outputs": [
    {
     "name": "stdout",
     "output_type": "stream",
     "text": [
      "wallstreetbets\n",
      "stocks\n",
      "investing\n",
      "finance\n"
     ]
    }
   ],
   "source": [
    "for thread in subreddits:\n",
    "    subreddit = reddit.subreddit(thread)\n",
    "    print(subreddit)"
   ]
  },
  {
   "cell_type": "code",
   "execution_count": 12,
   "metadata": {},
   "outputs": [
    {
     "data": {
      "text/plain": [
       "Subreddit(display_name='wallstreetbets')"
      ]
     },
     "execution_count": 12,
     "metadata": {},
     "output_type": "execute_result"
    }
   ],
   "source": [
    "wsb = reddit.subreddit('wallstreetbets')\n",
    "wsb"
   ]
  },
  {
   "cell_type": "code",
   "execution_count": 13,
   "metadata": {},
   "outputs": [
    {
     "name": "stdout",
     "output_type": "stream",
     "text": [
      "…And it’s gone. I set a new personal high score last Friday, only for it all to disappear in a week. I’ll see you guys again when I save up a couple thousand dollars. I will be back! But I’m sticking to SPY weeklies next time. Meme stock weeklies have brought me nothing but pain.\n",
      "I think I’m almost there\n",
      "Humble GME YOLO Update part two: \"Dearly Regarded.\"\n",
      "WSB banbet lost a week ago\n",
      "GameStop - GME Stock Evaluation\n"
     ]
    }
   ],
   "source": [
    "for post in wsb.search('gme', sort = 'top', time_filter = 'day', limit = 10):\n",
    "    print(post.title)"
   ]
  },
  {
   "cell_type": "code",
   "execution_count": 14,
   "metadata": {},
   "outputs": [
    {
     "name": "stdout",
     "output_type": "stream",
     "text": [
      "Humble GME YOLO Update part two: \"Dearly Regarded.\"\n",
      "GameStop - GME Stock Evaluation\n",
      "…And it’s gone. I set a new personal high score last Friday, only for it all to disappear in a week. I’ll see you guys again when I save up a couple thousand dollars. I will be back! But I’m sticking to SPY weeklies next time. Meme stock weeklies have brought me nothing but pain.\n",
      "I think I’m almost there\n",
      "WSB banbet lost a week ago\n"
     ]
    }
   ],
   "source": [
    "for post in wsb.search('gme', sort = 'hot', time_filter = 'day', limit = 10):\n",
    "    print(post.title)"
   ]
  },
  {
   "cell_type": "markdown",
   "metadata": {},
   "source": [
    "* need to specify which to sort by: hot, top, or mew \n",
    "* filter on day "
   ]
  },
  {
   "cell_type": "markdown",
   "metadata": {},
   "source": [
    "# Version 1"
   ]
  },
  {
   "cell_type": "code",
   "execution_count": 43,
   "metadata": {},
   "outputs": [],
   "source": [
    "posts = pd.DataFrame()\n",
    "\n",
    "ticker = 'GME'\n",
    "\n",
    "for post in wsb.search(ticker.lower(), sort = 'new', time_filter = 'day', limit = None):\n",
    "    #check if title has stock ticker \n",
    "    if ticker.lower() not in post.title.lower(): \n",
    "        #print(post.title)\n",
    "        continue \n",
    "    #check if author is not banned \n",
    "    if hasattr(post.author, 'is_suspended'):\n",
    "        #print(post.author.is_suspended)\n",
    "        continue\n",
    "\n",
    "    #collect desired values \n",
    "    title_instance = {\n",
    "        'TYPE': 'TITLE',\n",
    "        'ticker': ticker, \n",
    "        'subreddit': 'subreddit',\n",
    "        'post_title': post.title, \n",
    "        'content': post.title, \n",
    "        'upvotes': post.score, \n",
    "        #'upvote_ratio': post.upvote_ratio,\n",
    "        'num_comments': post.num_comments, \n",
    "        'author_karma': post.author.comment_karma, \n",
    "        'author_verified': post.author.has_verified_email, \n",
    "        'time': datetime.fromtimestamp(post.created_utc).strftime('%Y-%m-%d'),\n",
    "    }\n",
    "\n",
    "    #create row and concat it to the df\n",
    "    row = pd.DataFrame([title_instance])\n",
    "    posts = pd.concat([posts, row], axis = 0, ignore_index = True)\n",
    "\n",
    "    #checking comments\n",
    "    for comment in post.comments:\n",
    "        #do not want sub comments of comments \n",
    "        if isinstance(comment, MoreComments):\n",
    "            continue\n",
    "        if 'user report' in comment.body.lower(): \n",
    "            continue \n",
    "        comment_instance = {\n",
    "            'TYPE': 'COMMENT',\n",
    "            'ticker': ticker, \n",
    "            'subreddit': 'subreddit', \n",
    "            'post_title': post.title,\n",
    "            'content': comment.body, \n",
    "            'upvotes': comment.score, \n",
    "            #'upvote_ratio': post.upvote_ratio,\n",
    "            'num_comments': comment.replies.__len__(), \n",
    "            'author_karma': comment.author.comment_karma, \n",
    "            'author_verified': comment.author.has_verified_email, \n",
    "            'time': datetime.fromtimestamp(comment.created_utc).strftime('%Y-%m-%d'),\n",
    "        }\n",
    "\n",
    "        row = pd.DataFrame([comment_instance])\n",
    "        posts = pd.concat([posts, row], axis = 0, ignore_index = True)\n",
    "\n"
   ]
  },
  {
   "cell_type": "code",
   "execution_count": 38,
   "metadata": {},
   "outputs": [
    {
     "data": {
      "text/html": [
       "<div>\n",
       "<style scoped>\n",
       "    .dataframe tbody tr th:only-of-type {\n",
       "        vertical-align: middle;\n",
       "    }\n",
       "\n",
       "    .dataframe tbody tr th {\n",
       "        vertical-align: top;\n",
       "    }\n",
       "\n",
       "    .dataframe thead th {\n",
       "        text-align: right;\n",
       "    }\n",
       "</style>\n",
       "<table border=\"1\" class=\"dataframe\">\n",
       "  <thead>\n",
       "    <tr style=\"text-align: right;\">\n",
       "      <th></th>\n",
       "      <th>TYPE</th>\n",
       "      <th>ticker</th>\n",
       "      <th>subreddit</th>\n",
       "      <th>post_title</th>\n",
       "      <th>content</th>\n",
       "      <th>upvotes</th>\n",
       "      <th>num_comments</th>\n",
       "      <th>author_karma</th>\n",
       "      <th>author_verified</th>\n",
       "      <th>time</th>\n",
       "    </tr>\n",
       "  </thead>\n",
       "  <tbody>\n",
       "    <tr>\n",
       "      <th>0</th>\n",
       "      <td>TITLE</td>\n",
       "      <td>GME</td>\n",
       "      <td>subreddit</td>\n",
       "      <td>GameStop - GME Stock Evaluation</td>\n",
       "      <td>GameStop - GME Stock Evaluation</td>\n",
       "      <td>0</td>\n",
       "      <td>5</td>\n",
       "      <td>37401</td>\n",
       "      <td>True</td>\n",
       "      <td>2022-11-04</td>\n",
       "    </tr>\n",
       "    <tr>\n",
       "      <th>1</th>\n",
       "      <td>COMMENT</td>\n",
       "      <td>GME</td>\n",
       "      <td>subreddit</td>\n",
       "      <td>GameStop - GME Stock Evaluation</td>\n",
       "      <td>gtfoh</td>\n",
       "      <td>7</td>\n",
       "      <td>1</td>\n",
       "      <td>8201</td>\n",
       "      <td>True</td>\n",
       "      <td>2022-11-04</td>\n",
       "    </tr>\n",
       "    <tr>\n",
       "      <th>2</th>\n",
       "      <td>COMMENT</td>\n",
       "      <td>GME</td>\n",
       "      <td>subreddit</td>\n",
       "      <td>GameStop - GME Stock Evaluation</td>\n",
       "      <td>&gt;I think you're wrong about the fundamentals. ...</td>\n",
       "      <td>10</td>\n",
       "      <td>0</td>\n",
       "      <td>296648</td>\n",
       "      <td>False</td>\n",
       "      <td>2022-11-04</td>\n",
       "    </tr>\n",
       "    <tr>\n",
       "      <th>3</th>\n",
       "      <td>COMMENT</td>\n",
       "      <td>GME</td>\n",
       "      <td>subreddit</td>\n",
       "      <td>GameStop - GME Stock Evaluation</td>\n",
       "      <td>This ain't no movement you fuckin mouthbreathe...</td>\n",
       "      <td>1</td>\n",
       "      <td>0</td>\n",
       "      <td>1000</td>\n",
       "      <td>True</td>\n",
       "      <td>2022-11-04</td>\n",
       "    </tr>\n",
       "    <tr>\n",
       "      <th>4</th>\n",
       "      <td>TITLE</td>\n",
       "      <td>GME</td>\n",
       "      <td>subreddit</td>\n",
       "      <td>Humble GME YOLO Update part two: \"Dearly Regar...</td>\n",
       "      <td>Humble GME YOLO Update part two: \"Dearly Regar...</td>\n",
       "      <td>11</td>\n",
       "      <td>8</td>\n",
       "      <td>47883</td>\n",
       "      <td>True</td>\n",
       "      <td>2022-11-04</td>\n",
       "    </tr>\n",
       "  </tbody>\n",
       "</table>\n",
       "</div>"
      ],
      "text/plain": [
       "      TYPE ticker  subreddit  \\\n",
       "0    TITLE    GME  subreddit   \n",
       "1  COMMENT    GME  subreddit   \n",
       "2  COMMENT    GME  subreddit   \n",
       "3  COMMENT    GME  subreddit   \n",
       "4    TITLE    GME  subreddit   \n",
       "\n",
       "                                          post_title  \\\n",
       "0                    GameStop - GME Stock Evaluation   \n",
       "1                    GameStop - GME Stock Evaluation   \n",
       "2                    GameStop - GME Stock Evaluation   \n",
       "3                    GameStop - GME Stock Evaluation   \n",
       "4  Humble GME YOLO Update part two: \"Dearly Regar...   \n",
       "\n",
       "                                             content  upvotes  num_comments  \\\n",
       "0                    GameStop - GME Stock Evaluation        0             5   \n",
       "1                                              gtfoh        7             1   \n",
       "2  >I think you're wrong about the fundamentals. ...       10             0   \n",
       "3  This ain't no movement you fuckin mouthbreathe...        1             0   \n",
       "4  Humble GME YOLO Update part two: \"Dearly Regar...       11             8   \n",
       "\n",
       "   author_karma  author_verified        time  \n",
       "0         37401             True  2022-11-04  \n",
       "1          8201             True  2022-11-04  \n",
       "2        296648            False  2022-11-04  \n",
       "3          1000             True  2022-11-04  \n",
       "4         47883             True  2022-11-04  "
      ]
     },
     "execution_count": 38,
     "metadata": {},
     "output_type": "execute_result"
    }
   ],
   "source": [
    "posts.head()"
   ]
  },
  {
   "cell_type": "markdown",
   "metadata": {},
   "source": [
    "# Version 2"
   ]
  },
  {
   "cell_type": "code",
   "execution_count": 47,
   "metadata": {},
   "outputs": [],
   "source": [
    "posts = pd.DataFrame()\n",
    "comments = pd.DataFrame()\n",
    "\n",
    "ticker = 'GME'\n",
    "\n",
    "for post in wsb.search(ticker.lower(), sort = 'new', time_filter = 'day', limit = None):\n",
    "    #check if title has stock ticker \n",
    "    if ticker.lower() not in post.title.lower(): \n",
    "        #print(post.title)\n",
    "        continue \n",
    "    #check if author is not banned \n",
    "    if hasattr(post.author, 'is_suspended'):\n",
    "        #print(post.author.is_suspended)\n",
    "        continue\n",
    "\n",
    "    #collect desired values \n",
    "    title_instance = {\n",
    "        'ticker': ticker, \n",
    "        'subreddit': 'subreddit',\n",
    "        'content': post.title, \n",
    "        'upvotes': post.score, \n",
    "        'upvote_ratio': post.upvote_ratio,\n",
    "        'num_comments': post.num_comments, \n",
    "        'author_karma': post.author.comment_karma, \n",
    "        'author_verified': post.author.has_verified_email, \n",
    "        'time': datetime.fromtimestamp(post.created_utc).strftime('%Y-%m-%d'),\n",
    "    }\n",
    "\n",
    "    #create row and concat it to the df\n",
    "    row = pd.DataFrame([title_instance])\n",
    "    posts = pd.concat([posts, row], axis = 0, ignore_index = True)\n",
    "\n",
    "    #checking comments\n",
    "    for comment in post.comments:\n",
    "        #do not want sub comments of comments \n",
    "        if isinstance(comment, MoreComments):\n",
    "            continue\n",
    "        if 'user report' in comment.body.lower(): \n",
    "            continue \n",
    "        comment_instance = {\n",
    "            'ticker': ticker, \n",
    "            'subreddit': 'subreddit', \n",
    "            # optional can remove if no grouping by title is needed \n",
    "            'post_title': post.title,\n",
    "            'content': comment.body, \n",
    "            'upvotes': comment.score, \n",
    "            'replies': comment.replies.__len__(), \n",
    "            'sticked': comment.stickied,\n",
    "            'author_karma': comment.author.comment_karma, \n",
    "            'author_verified': comment.author.has_verified_email, \n",
    "            'time': datetime.fromtimestamp(comment.created_utc).strftime('%Y-%m-%d'),\n",
    "        }\n",
    "\n",
    "        row = pd.DataFrame([comment_instance])\n",
    "        comments = pd.concat([comments, row], axis = 0, ignore_index = True)"
   ]
  },
  {
   "cell_type": "code",
   "execution_count": 48,
   "metadata": {},
   "outputs": [
    {
     "data": {
      "text/html": [
       "<div>\n",
       "<style scoped>\n",
       "    .dataframe tbody tr th:only-of-type {\n",
       "        vertical-align: middle;\n",
       "    }\n",
       "\n",
       "    .dataframe tbody tr th {\n",
       "        vertical-align: top;\n",
       "    }\n",
       "\n",
       "    .dataframe thead th {\n",
       "        text-align: right;\n",
       "    }\n",
       "</style>\n",
       "<table border=\"1\" class=\"dataframe\">\n",
       "  <thead>\n",
       "    <tr style=\"text-align: right;\">\n",
       "      <th></th>\n",
       "      <th>ticker</th>\n",
       "      <th>subreddit</th>\n",
       "      <th>content</th>\n",
       "      <th>upvotes</th>\n",
       "      <th>upvote_ratio</th>\n",
       "      <th>num_comments</th>\n",
       "      <th>author_karma</th>\n",
       "      <th>author_verified</th>\n",
       "      <th>time</th>\n",
       "    </tr>\n",
       "  </thead>\n",
       "  <tbody>\n",
       "    <tr>\n",
       "      <th>0</th>\n",
       "      <td>GME</td>\n",
       "      <td>subreddit</td>\n",
       "      <td>GameStop - GME Stock Evaluation</td>\n",
       "      <td>0</td>\n",
       "      <td>0.25</td>\n",
       "      <td>6</td>\n",
       "      <td>37401</td>\n",
       "      <td>True</td>\n",
       "      <td>2022-11-04</td>\n",
       "    </tr>\n",
       "    <tr>\n",
       "      <th>1</th>\n",
       "      <td>GME</td>\n",
       "      <td>subreddit</td>\n",
       "      <td>Humble GME YOLO Update part two: \"Dearly Regar...</td>\n",
       "      <td>13</td>\n",
       "      <td>0.84</td>\n",
       "      <td>8</td>\n",
       "      <td>47883</td>\n",
       "      <td>True</td>\n",
       "      <td>2022-11-04</td>\n",
       "    </tr>\n",
       "  </tbody>\n",
       "</table>\n",
       "</div>"
      ],
      "text/plain": [
       "  ticker  subreddit                                            content  \\\n",
       "0    GME  subreddit                    GameStop - GME Stock Evaluation   \n",
       "1    GME  subreddit  Humble GME YOLO Update part two: \"Dearly Regar...   \n",
       "\n",
       "   upvotes  upvote_ratio  num_comments  author_karma  author_verified  \\\n",
       "0        0          0.25             6         37401             True   \n",
       "1       13          0.84             8         47883             True   \n",
       "\n",
       "         time  \n",
       "0  2022-11-04  \n",
       "1  2022-11-04  "
      ]
     },
     "execution_count": 48,
     "metadata": {},
     "output_type": "execute_result"
    }
   ],
   "source": [
    "posts.head()\n"
   ]
  },
  {
   "cell_type": "code",
   "execution_count": 49,
   "metadata": {},
   "outputs": [
    {
     "data": {
      "text/html": [
       "<div>\n",
       "<style scoped>\n",
       "    .dataframe tbody tr th:only-of-type {\n",
       "        vertical-align: middle;\n",
       "    }\n",
       "\n",
       "    .dataframe tbody tr th {\n",
       "        vertical-align: top;\n",
       "    }\n",
       "\n",
       "    .dataframe thead th {\n",
       "        text-align: right;\n",
       "    }\n",
       "</style>\n",
       "<table border=\"1\" class=\"dataframe\">\n",
       "  <thead>\n",
       "    <tr style=\"text-align: right;\">\n",
       "      <th></th>\n",
       "      <th>ticker</th>\n",
       "      <th>subreddit</th>\n",
       "      <th>post_title</th>\n",
       "      <th>content</th>\n",
       "      <th>upvotes</th>\n",
       "      <th>replies</th>\n",
       "      <th>sticked</th>\n",
       "      <th>author_karma</th>\n",
       "      <th>author_verified</th>\n",
       "      <th>time</th>\n",
       "    </tr>\n",
       "  </thead>\n",
       "  <tbody>\n",
       "    <tr>\n",
       "      <th>0</th>\n",
       "      <td>GME</td>\n",
       "      <td>subreddit</td>\n",
       "      <td>GameStop - GME Stock Evaluation</td>\n",
       "      <td>gtfoh</td>\n",
       "      <td>8</td>\n",
       "      <td>1</td>\n",
       "      <td>False</td>\n",
       "      <td>8202</td>\n",
       "      <td>True</td>\n",
       "      <td>2022-11-04</td>\n",
       "    </tr>\n",
       "    <tr>\n",
       "      <th>1</th>\n",
       "      <td>GME</td>\n",
       "      <td>subreddit</td>\n",
       "      <td>GameStop - GME Stock Evaluation</td>\n",
       "      <td>&gt;I think you're wrong about the fundamentals. ...</td>\n",
       "      <td>11</td>\n",
       "      <td>0</td>\n",
       "      <td>False</td>\n",
       "      <td>296656</td>\n",
       "      <td>False</td>\n",
       "      <td>2022-11-04</td>\n",
       "    </tr>\n",
       "    <tr>\n",
       "      <th>2</th>\n",
       "      <td>GME</td>\n",
       "      <td>subreddit</td>\n",
       "      <td>GameStop - GME Stock Evaluation</td>\n",
       "      <td>This ain't no movement you fuckin mouthbreathe...</td>\n",
       "      <td>1</td>\n",
       "      <td>0</td>\n",
       "      <td>False</td>\n",
       "      <td>1000</td>\n",
       "      <td>True</td>\n",
       "      <td>2022-11-04</td>\n",
       "    </tr>\n",
       "    <tr>\n",
       "      <th>3</th>\n",
       "      <td>GME</td>\n",
       "      <td>subreddit</td>\n",
       "      <td>GameStop - GME Stock Evaluation</td>\n",
       "      <td>Seems optimistic.</td>\n",
       "      <td>1</td>\n",
       "      <td>0</td>\n",
       "      <td>False</td>\n",
       "      <td>20335</td>\n",
       "      <td>True</td>\n",
       "      <td>2022-11-04</td>\n",
       "    </tr>\n",
       "    <tr>\n",
       "      <th>4</th>\n",
       "      <td>GME</td>\n",
       "      <td>subreddit</td>\n",
       "      <td>Humble GME YOLO Update part two: \"Dearly Regar...</td>\n",
       "      <td>https://i.redd.it/mx76ovirckw91.png\\n\\nOrigina...</td>\n",
       "      <td>6</td>\n",
       "      <td>0</td>\n",
       "      <td>False</td>\n",
       "      <td>47883</td>\n",
       "      <td>True</td>\n",
       "      <td>2022-11-04</td>\n",
       "    </tr>\n",
       "  </tbody>\n",
       "</table>\n",
       "</div>"
      ],
      "text/plain": [
       "  ticker  subreddit                                         post_title  \\\n",
       "0    GME  subreddit                    GameStop - GME Stock Evaluation   \n",
       "1    GME  subreddit                    GameStop - GME Stock Evaluation   \n",
       "2    GME  subreddit                    GameStop - GME Stock Evaluation   \n",
       "3    GME  subreddit                    GameStop - GME Stock Evaluation   \n",
       "4    GME  subreddit  Humble GME YOLO Update part two: \"Dearly Regar...   \n",
       "\n",
       "                                             content  upvotes  replies  \\\n",
       "0                                              gtfoh        8        1   \n",
       "1  >I think you're wrong about the fundamentals. ...       11        0   \n",
       "2  This ain't no movement you fuckin mouthbreathe...        1        0   \n",
       "3                                  Seems optimistic.        1        0   \n",
       "4  https://i.redd.it/mx76ovirckw91.png\\n\\nOrigina...        6        0   \n",
       "\n",
       "   sticked  author_karma  author_verified        time  \n",
       "0    False          8202             True  2022-11-04  \n",
       "1    False        296656            False  2022-11-04  \n",
       "2    False          1000             True  2022-11-04  \n",
       "3    False         20335             True  2022-11-04  \n",
       "4    False         47883             True  2022-11-04  "
      ]
     },
     "execution_count": 49,
     "metadata": {},
     "output_type": "execute_result"
    }
   ],
   "source": [
    "comments.head()"
   ]
  },
  {
   "cell_type": "markdown",
   "metadata": {},
   "source": [
    "# Preprocessing "
   ]
  },
  {
   "cell_type": "markdown",
   "metadata": {},
   "source": []
  }
 ],
 "metadata": {
  "kernelspec": {
   "display_name": "Python 3.9.13 ('base')",
   "language": "python",
   "name": "python3"
  },
  "language_info": {
   "codemirror_mode": {
    "name": "ipython",
    "version": 3
   },
   "file_extension": ".py",
   "mimetype": "text/x-python",
   "name": "python",
   "nbconvert_exporter": "python",
   "pygments_lexer": "ipython3",
   "version": "3.9.13"
  },
  "orig_nbformat": 4,
  "vscode": {
   "interpreter": {
    "hash": "7b7c0dd9955389ce4a008bd6bed1158d9bdfe709402d1bb0283b1c52cc17d8be"
   }
  }
 },
 "nbformat": 4,
 "nbformat_minor": 2
}
