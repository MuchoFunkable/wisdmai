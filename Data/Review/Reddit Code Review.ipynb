{
 "cells": [
  {
   "cell_type": "markdown",
   "metadata": {},
   "source": [
    "# Wisdm Reddit Code Review \n",
    "- pull data from reddit using Sid's code\n",
    "- pull data from reddit using wisdm code\n",
    "- compare and get feedback \n",
    "- "
   ]
  },
  {
   "cell_type": "markdown",
   "metadata": {},
   "source": [
    "## Sid's Code"
   ]
  },
  {
   "cell_type": "code",
   "execution_count": 3,
   "metadata": {},
   "outputs": [],
   "source": [
    "#!pip install praw\n",
    "import praw\n",
    "import pandas as pd"
   ]
  },
  {
   "cell_type": "code",
   "execution_count": 25,
   "metadata": {},
   "outputs": [],
   "source": [
    "# Creates Reddit user instance \n",
    "# Connects to Reddit using Wisdm account\n",
    "\n",
    "reddit = praw.Reddit(\n",
    "    client_id=\"auD_kIwyQ1r3hfxTQEYuGw\",\n",
    "    client_secret=\"XyLGeMB1mJqoaB0lCXrk4Jtmy515AA\",\n",
    "    password=\"wisdmai1234\",\n",
    "    user_agent=\"wisdm\",\n",
    "    username=\"Dramatic-Ad-9651\",\n",
    "    check_for_async=False\n",
    ")"
   ]
  },
  {
   "cell_type": "code",
   "execution_count": 5,
   "metadata": {},
   "outputs": [
    {
     "name": "stdout",
     "output_type": "stream",
     "text": [
      "Dramatic-Ad-9651\n"
     ]
    }
   ],
   "source": [
    "# Confirm user name is Dramatic-Ad-9651\n",
    "print(reddit.user.me())"
   ]
  },
  {
   "cell_type": "code",
   "execution_count": 6,
   "metadata": {},
   "outputs": [],
   "source": [
    "# specifies what sub reddit we are looking in\n",
    "subreddit = reddit.subreddit('wallstreetbets')\n",
    "\n",
    "\n",
    "# Tells the call to look at the 'hot' posts in the specified subreddit \n",
    "hot = subreddit.hot(limit = 15)"
   ]
  },
  {
   "cell_type": "code",
   "execution_count": 122,
   "metadata": {},
   "outputs": [
    {
     "data": {
      "text/plain": [
       "['AAPL', 'MSFT', 'F', 'TSLA', 'NVDA']"
      ]
     },
     "execution_count": 122,
     "metadata": {},
     "output_type": "execute_result"
    }
   ],
   "source": [
    "# This is will be provided by the scoping algorithm\n",
    "\n",
    "tickers = list(set(['SPY','TSLA','PYPL', 'GME', 'VIX', 'AMD', 'F', 'BBBY', 'NFLX', 'NVDA', 'AAPL', 'INTC', 'FSR', 'QQQ', 'TLRY', 'MSFT', 'TWTR', 'SNAP', 'HOOD', 'WMT', 'PTON', 'WISH', 'CPRX', 'AMC', 'SNDL', 'AMZN', 'DIS', 'NIO', 'FB', 'NFLX', 'LCID', 'NVDA']))\n",
    "\n",
    "tickers[0:5]"
   ]
  },
  {
   "cell_type": "code",
   "execution_count": 123,
   "metadata": {},
   "outputs": [],
   "source": [
    "def pull_Reddit():\n",
    "    posts = []\n",
    "    #subreddit = reddit.subreddit('wallstreetbets')\n",
    "    subreddits = [ 'wallstreetbets', 'stocks',  'investing', 'finance']\n",
    "    for thread in subreddits: \n",
    "        subreddit = reddit.subreddit(thread)\n",
    "        for post in subreddit.hot(limit=1000000):\n",
    "            checker = False\n",
    "            for word in post.title.split():\n",
    "                if word in tickers:\n",
    "                    checker = True\n",
    "            for word in post.selftext.split():\n",
    "                if word in tickers:\n",
    "                    checker = True\n",
    "            if checker:\n",
    "                posts.append([post.title, post.score, post.id, post.subreddit, post.url, post.num_comments, post.selftext, post.created])\n",
    "            \n",
    "    posts_df = pd.DataFrame(posts, columns=['title', 'score', 'id', 'subreddit', 'url', 'num_comments', 'body', 'created'])\n",
    "    return posts_df\n"
   ]
  },
  {
   "cell_type": "markdown",
   "metadata": {},
   "source": [
    "#### Feedback\n",
    "* might be helpful to include print statements to tell us we are in the process \n",
    "* make subreddits a parameter \n",
    "* make stock tickers a parameter "
   ]
  },
  {
   "cell_type": "code",
   "execution_count": 124,
   "metadata": {},
   "outputs": [
    {
     "name": "stdout",
     "output_type": "stream",
     "text": [
      "27 s ± 1.17 s per loop (mean ± std. dev. of 7 runs, 1 loop each)\n"
     ]
    }
   ],
   "source": [
    "%%timeit \n",
    "pull_Reddit() "
   ]
  },
  {
   "cell_type": "markdown",
   "metadata": {},
   "source": [
    "# "
   ]
  },
  {
   "cell_type": "code",
   "execution_count": 125,
   "metadata": {},
   "outputs": [
    {
     "data": {
      "text/html": [
       "<div>\n",
       "<style scoped>\n",
       "    .dataframe tbody tr th:only-of-type {\n",
       "        vertical-align: middle;\n",
       "    }\n",
       "\n",
       "    .dataframe tbody tr th {\n",
       "        vertical-align: top;\n",
       "    }\n",
       "\n",
       "    .dataframe thead th {\n",
       "        text-align: right;\n",
       "    }\n",
       "</style>\n",
       "<table border=\"1\" class=\"dataframe\">\n",
       "  <thead>\n",
       "    <tr style=\"text-align: right;\">\n",
       "      <th></th>\n",
       "      <th>title</th>\n",
       "      <th>score</th>\n",
       "      <th>id</th>\n",
       "      <th>subreddit</th>\n",
       "      <th>url</th>\n",
       "      <th>num_comments</th>\n",
       "      <th>body</th>\n",
       "      <th>created</th>\n",
       "    </tr>\n",
       "  </thead>\n",
       "  <tbody>\n",
       "    <tr>\n",
       "      <th>0</th>\n",
       "      <td>by the power of QQQ puts I can afford home own...</td>\n",
       "      <td>130</td>\n",
       "      <td>ykkit5</td>\n",
       "      <td>wallstreetbets</td>\n",
       "      <td>https://i.redd.it/3136fea7amx91.jpg</td>\n",
       "      <td>2</td>\n",
       "      <td></td>\n",
       "      <td>1.667429e+09</td>\n",
       "    </tr>\n",
       "    <tr>\n",
       "      <th>1</th>\n",
       "      <td>SPY Put Pivot Tendies: $400 to $8k and holding</td>\n",
       "      <td>114</td>\n",
       "      <td>ykj8wg</td>\n",
       "      <td>wallstreetbets</td>\n",
       "      <td>https://i.redd.it/25w0kfln2mx91.jpg</td>\n",
       "      <td>34</td>\n",
       "      <td></td>\n",
       "      <td>1.667427e+09</td>\n",
       "    </tr>\n",
       "    <tr>\n",
       "      <th>2</th>\n",
       "      <td>congrats to those who correctly timed SPY opti...</td>\n",
       "      <td>140</td>\n",
       "      <td>ykeket</td>\n",
       "      <td>wallstreetbets</td>\n",
       "      <td>https://i.redd.it/oh56h9p3smx91.jpg</td>\n",
       "      <td>17</td>\n",
       "      <td></td>\n",
       "      <td>1.667417e+09</td>\n",
       "    </tr>\n",
       "    <tr>\n",
       "      <th>3</th>\n",
       "      <td>$14,000 day gain thanks to SPY puts</td>\n",
       "      <td>56</td>\n",
       "      <td>ykfl21</td>\n",
       "      <td>wallstreetbets</td>\n",
       "      <td>https://www.reddit.com/gallery/ykfl21</td>\n",
       "      <td>17</td>\n",
       "      <td></td>\n",
       "      <td>1.667419e+09</td>\n",
       "    </tr>\n",
       "    <tr>\n",
       "      <th>4</th>\n",
       "      <td>11-2-22 SPY/ ES futures, Apple and Tesla Daily TA</td>\n",
       "      <td>23</td>\n",
       "      <td>ykh7d5</td>\n",
       "      <td>wallstreetbets</td>\n",
       "      <td>https://www.reddit.com/r/wallstreetbets/commen...</td>\n",
       "      <td>32</td>\n",
       "      <td>And just like that the bullish momentum and st...</td>\n",
       "      <td>1.667423e+09</td>\n",
       "    </tr>\n",
       "  </tbody>\n",
       "</table>\n",
       "</div>"
      ],
      "text/plain": [
       "                                               title  score      id  \\\n",
       "0  by the power of QQQ puts I can afford home own...    130  ykkit5   \n",
       "1     SPY Put Pivot Tendies: $400 to $8k and holding    114  ykj8wg   \n",
       "2  congrats to those who correctly timed SPY opti...    140  ykeket   \n",
       "3                $14,000 day gain thanks to SPY puts     56  ykfl21   \n",
       "4  11-2-22 SPY/ ES futures, Apple and Tesla Daily TA     23  ykh7d5   \n",
       "\n",
       "        subreddit                                                url  \\\n",
       "0  wallstreetbets                https://i.redd.it/3136fea7amx91.jpg   \n",
       "1  wallstreetbets                https://i.redd.it/25w0kfln2mx91.jpg   \n",
       "2  wallstreetbets                https://i.redd.it/oh56h9p3smx91.jpg   \n",
       "3  wallstreetbets              https://www.reddit.com/gallery/ykfl21   \n",
       "4  wallstreetbets  https://www.reddit.com/r/wallstreetbets/commen...   \n",
       "\n",
       "   num_comments                                               body  \\\n",
       "0             2                                                      \n",
       "1            34                                                      \n",
       "2            17                                                      \n",
       "3            17                                                      \n",
       "4            32  And just like that the bullish momentum and st...   \n",
       "\n",
       "        created  \n",
       "0  1.667429e+09  \n",
       "1  1.667427e+09  \n",
       "2  1.667417e+09  \n",
       "3  1.667419e+09  \n",
       "4  1.667423e+09  "
      ]
     },
     "execution_count": 125,
     "metadata": {},
     "output_type": "execute_result"
    }
   ],
   "source": [
    "df = pull_Reddit() \n",
    "df.head()"
   ]
  },
  {
   "cell_type": "code",
   "execution_count": 126,
   "metadata": {},
   "outputs": [
    {
     "data": {
      "text/plain": [
       "(111, 8)"
      ]
     },
     "execution_count": 126,
     "metadata": {},
     "output_type": "execute_result"
    }
   ],
   "source": [
    "df.shape"
   ]
  },
  {
   "cell_type": "markdown",
   "metadata": {},
   "source": [
    "# Wisdm Archive Reddit Code "
   ]
  },
  {
   "cell_type": "code",
   "execution_count": 67,
   "metadata": {},
   "outputs": [],
   "source": [
    "import pandas as pd\n",
    "from datetime import datetime\n",
    "from praw.models import MoreComments\n",
    "import warnings\n",
    "warnings.simplefilter(action='ignore', category=FutureWarning)"
   ]
  },
  {
   "cell_type": "code",
   "execution_count": null,
   "metadata": {},
   "outputs": [],
   "source": [
    "reddit = praw.Reddit(\n",
    "    client_id=\"auD_kIwyQ1r3hfxTQEYuGw\",\n",
    "    client_secret=\"XyLGeMB1mJqoaB0lCXrk4Jtmy515AA\",\n",
    "    password=\"wisdmai1234\",\n",
    "    user_agent=\"wisdm\",\n",
    "    username=\"Dramatic-Ad-9651\",\n",
    "    check_for_async=False\n",
    ")"
   ]
  },
  {
   "cell_type": "code",
   "execution_count": 168,
   "metadata": {},
   "outputs": [],
   "source": [
    "def pull_reddit_v2(): \n",
    "  #stocklist = ('gme', 'amc', 'tsla', 'hood', 'fb', 'twtr', 'spy', 'webr', 'evtl', 'arqq', 'bbby', 'tsm', 'ppi', 'nvda')\n",
    "  stocklist = ('SPY','TSLA','PYPL', 'GME', 'VIX', 'AMD', 'F', 'BBBY', 'NFLX', 'NVDA', 'AAPL', 'INTC', 'FSR', 'QQQ', 'TLRY', 'MSFT', 'TWTR', 'SNAP', 'HOOD', 'WMT', 'PTON', 'WISH', 'CPRX', 'AMC', 'SNDL', 'AMZN', 'DIS', 'NIO', 'FB', 'NFLX', 'LCID', 'NVDA')\n",
    "  subreddits = ('wallstreetbets', 'stocks',  'investing', 'finance')\n",
    "  posts = pd.DataFrame()\n",
    "  for stock in stocklist:\n",
    "    #print(stock)\n",
    "    for sub in subreddits:\n",
    "      #print(sub)\n",
    "      subreddit = reddit.subreddit(sub)\n",
    "      for post in subreddit.search(stock, sort = 'new', time_filter = \"week\",limit=None):\n",
    "        if stock.lower() not in post.title.lower():\n",
    "          #print(stock) \n",
    "          #print(post.title.lower())\n",
    "          continue\n",
    "        pslice = pd.DataFrame()\n",
    "        pslice = pslice.append({\n",
    "            'stock': stock,\n",
    "            'subreddit': post.subreddit,\n",
    "            'type': 'POST',\n",
    "            'post_title': post.title,\n",
    "            'selftext': post.selftext,\n",
    "            #'upvote_ratio': post.upvote_ratio,\n",
    "            #'ups': post.ups,\n",
    "            'ups': post.score,\n",
    "            #'num_comments': post.num_comments,\n",
    "            'id': post.id,\n",
    "            'time': datetime.fromtimestamp(post.created_utc).strftime('%Y-%m-%dT%H:%M:%SZ')\n",
    "          }, ignore_index=True)\n",
    "        #if post.id in posts['id']:\n",
    "          #continue\n",
    "        posts = posts.append(pslice, ignore_index=True)\n",
    "        #post.comments.replace_more(limit=None)\n",
    "        cslice = pd.DataFrame()\n",
    "        for com in post.comments:\n",
    "          if isinstance(com, MoreComments):\n",
    "            continue\n",
    "          cslice = cslice.append({\n",
    "              'stock': stock,\n",
    "              'subreddit': post.subreddit,\n",
    "              'type': 'COMMENT',\n",
    "              'post_title': post.title,\n",
    "              'selftext': com.body,\n",
    "              #'upvote_ratio': com.upvote_ratio,\n",
    "              #'ups': com.ups,\n",
    "              'ups': com.score,\n",
    "              #'num_comments': post.num_comments,\n",
    "              'id': post.id,\n",
    "              'time': datetime.fromtimestamp(com.created_utc).strftime('%Y-%m-%dT%H:%M:%SZ'),\n",
    "            }, ignore_index=True)\n",
    "        posts = posts.append(cslice, ignore_index=True)\n",
    "\n",
    "  return posts"
   ]
  },
  {
   "cell_type": "code",
   "execution_count": 170,
   "metadata": {},
   "outputs": [
    {
     "name": "stdout",
     "output_type": "stream",
     "text": [
      "5min ± 907 ms per loop (mean ± std. dev. of 7 runs, 1 loop each)\n"
     ]
    }
   ],
   "source": [
    "%%timeit \n",
    "pull_reddit_v2()"
   ]
  },
  {
   "cell_type": "code",
   "execution_count": 171,
   "metadata": {},
   "outputs": [
    {
     "data": {
      "text/html": [
       "<div>\n",
       "<style scoped>\n",
       "    .dataframe tbody tr th:only-of-type {\n",
       "        vertical-align: middle;\n",
       "    }\n",
       "\n",
       "    .dataframe tbody tr th {\n",
       "        vertical-align: top;\n",
       "    }\n",
       "\n",
       "    .dataframe thead th {\n",
       "        text-align: right;\n",
       "    }\n",
       "</style>\n",
       "<table border=\"1\" class=\"dataframe\">\n",
       "  <thead>\n",
       "    <tr style=\"text-align: right;\">\n",
       "      <th></th>\n",
       "      <th>stock</th>\n",
       "      <th>subreddit</th>\n",
       "      <th>type</th>\n",
       "      <th>post_title</th>\n",
       "      <th>selftext</th>\n",
       "      <th>ups</th>\n",
       "      <th>id</th>\n",
       "      <th>time</th>\n",
       "    </tr>\n",
       "  </thead>\n",
       "  <tbody>\n",
       "    <tr>\n",
       "      <th>0</th>\n",
       "      <td>SPY</td>\n",
       "      <td>wallstreetbets</td>\n",
       "      <td>POST</td>\n",
       "      <td>SPY Put Pivot Tendies: $400 to $8k and holding</td>\n",
       "      <td></td>\n",
       "      <td>132</td>\n",
       "      <td>ykj8wg</td>\n",
       "      <td>2022-11-02T15:07:57Z</td>\n",
       "    </tr>\n",
       "    <tr>\n",
       "      <th>1</th>\n",
       "      <td>SPY</td>\n",
       "      <td>wallstreetbets</td>\n",
       "      <td>COMMENT</td>\n",
       "      <td>SPY Put Pivot Tendies: $400 to $8k and holding</td>\n",
       "      <td>\\n**User Report**| | | |\\n:--|:--|:--|:--\\n**T...</td>\n",
       "      <td>1</td>\n",
       "      <td>ykj8wg</td>\n",
       "      <td>2022-11-02T15:08:02Z</td>\n",
       "    </tr>\n",
       "    <tr>\n",
       "      <th>2</th>\n",
       "      <td>SPY</td>\n",
       "      <td>wallstreetbets</td>\n",
       "      <td>COMMENT</td>\n",
       "      <td>SPY Put Pivot Tendies: $400 to $8k and holding</td>\n",
       "      <td>I'm confused, how did you buy 7 of those optio...</td>\n",
       "      <td>21</td>\n",
       "      <td>ykj8wg</td>\n",
       "      <td>2022-11-02T15:24:16Z</td>\n",
       "    </tr>\n",
       "    <tr>\n",
       "      <th>3</th>\n",
       "      <td>SPY</td>\n",
       "      <td>wallstreetbets</td>\n",
       "      <td>COMMENT</td>\n",
       "      <td>SPY Put Pivot Tendies: $400 to $8k and holding</td>\n",
       "      <td>Congrats</td>\n",
       "      <td>10</td>\n",
       "      <td>ykj8wg</td>\n",
       "      <td>2022-11-02T15:12:39Z</td>\n",
       "    </tr>\n",
       "    <tr>\n",
       "      <th>4</th>\n",
       "      <td>SPY</td>\n",
       "      <td>wallstreetbets</td>\n",
       "      <td>COMMENT</td>\n",
       "      <td>SPY Put Pivot Tendies: $400 to $8k and holding</td>\n",
       "      <td>Started with $20 a month ago. Now at $120. I w...</td>\n",
       "      <td>6</td>\n",
       "      <td>ykj8wg</td>\n",
       "      <td>2022-11-02T16:21:35Z</td>\n",
       "    </tr>\n",
       "  </tbody>\n",
       "</table>\n",
       "</div>"
      ],
      "text/plain": [
       "  stock       subreddit     type  \\\n",
       "0   SPY  wallstreetbets     POST   \n",
       "1   SPY  wallstreetbets  COMMENT   \n",
       "2   SPY  wallstreetbets  COMMENT   \n",
       "3   SPY  wallstreetbets  COMMENT   \n",
       "4   SPY  wallstreetbets  COMMENT   \n",
       "\n",
       "                                       post_title  \\\n",
       "0  SPY Put Pivot Tendies: $400 to $8k and holding   \n",
       "1  SPY Put Pivot Tendies: $400 to $8k and holding   \n",
       "2  SPY Put Pivot Tendies: $400 to $8k and holding   \n",
       "3  SPY Put Pivot Tendies: $400 to $8k and holding   \n",
       "4  SPY Put Pivot Tendies: $400 to $8k and holding   \n",
       "\n",
       "                                            selftext  ups      id  \\\n",
       "0                                                     132  ykj8wg   \n",
       "1  \\n**User Report**| | | |\\n:--|:--|:--|:--\\n**T...    1  ykj8wg   \n",
       "2  I'm confused, how did you buy 7 of those optio...   21  ykj8wg   \n",
       "3                                           Congrats   10  ykj8wg   \n",
       "4  Started with $20 a month ago. Now at $120. I w...    6  ykj8wg   \n",
       "\n",
       "                   time  \n",
       "0  2022-11-02T15:07:57Z  \n",
       "1  2022-11-02T15:08:02Z  \n",
       "2  2022-11-02T15:24:16Z  \n",
       "3  2022-11-02T15:12:39Z  \n",
       "4  2022-11-02T16:21:35Z  "
      ]
     },
     "execution_count": 171,
     "metadata": {},
     "output_type": "execute_result"
    }
   ],
   "source": [
    "df_2 = pull_reddit_v2() \n",
    "df_2.head()"
   ]
  },
  {
   "cell_type": "code",
   "execution_count": 172,
   "metadata": {},
   "outputs": [
    {
     "data": {
      "text/plain": [
       "(5118, 8)"
      ]
     },
     "execution_count": 172,
     "metadata": {},
     "output_type": "execute_result"
    }
   ],
   "source": [
    "df_2.shape"
   ]
  },
  {
   "cell_type": "markdown",
   "metadata": {},
   "source": [
    "# EDA"
   ]
  },
  {
   "cell_type": "code",
   "execution_count": 162,
   "metadata": {},
   "outputs": [],
   "source": [
    "df_v1 = df.copy() \n",
    "df_v2 = df_2.copy()"
   ]
  },
  {
   "cell_type": "code",
   "execution_count": 163,
   "metadata": {},
   "outputs": [
    {
     "data": {
      "text/html": [
       "<div>\n",
       "<style scoped>\n",
       "    .dataframe tbody tr th:only-of-type {\n",
       "        vertical-align: middle;\n",
       "    }\n",
       "\n",
       "    .dataframe tbody tr th {\n",
       "        vertical-align: top;\n",
       "    }\n",
       "\n",
       "    .dataframe thead th {\n",
       "        text-align: right;\n",
       "    }\n",
       "</style>\n",
       "<table border=\"1\" class=\"dataframe\">\n",
       "  <thead>\n",
       "    <tr style=\"text-align: right;\">\n",
       "      <th></th>\n",
       "      <th>title</th>\n",
       "      <th>score</th>\n",
       "      <th>id</th>\n",
       "      <th>subreddit</th>\n",
       "      <th>url</th>\n",
       "      <th>num_comments</th>\n",
       "      <th>body</th>\n",
       "      <th>created</th>\n",
       "    </tr>\n",
       "  </thead>\n",
       "  <tbody>\n",
       "    <tr>\n",
       "      <th>0</th>\n",
       "      <td>by the power of QQQ puts I can afford home own...</td>\n",
       "      <td>130</td>\n",
       "      <td>ykkit5</td>\n",
       "      <td>wallstreetbets</td>\n",
       "      <td>https://i.redd.it/3136fea7amx91.jpg</td>\n",
       "      <td>2</td>\n",
       "      <td></td>\n",
       "      <td>1.667429e+09</td>\n",
       "    </tr>\n",
       "    <tr>\n",
       "      <th>1</th>\n",
       "      <td>SPY Put Pivot Tendies: $400 to $8k and holding</td>\n",
       "      <td>114</td>\n",
       "      <td>ykj8wg</td>\n",
       "      <td>wallstreetbets</td>\n",
       "      <td>https://i.redd.it/25w0kfln2mx91.jpg</td>\n",
       "      <td>34</td>\n",
       "      <td></td>\n",
       "      <td>1.667427e+09</td>\n",
       "    </tr>\n",
       "    <tr>\n",
       "      <th>2</th>\n",
       "      <td>congrats to those who correctly timed SPY opti...</td>\n",
       "      <td>140</td>\n",
       "      <td>ykeket</td>\n",
       "      <td>wallstreetbets</td>\n",
       "      <td>https://i.redd.it/oh56h9p3smx91.jpg</td>\n",
       "      <td>17</td>\n",
       "      <td></td>\n",
       "      <td>1.667417e+09</td>\n",
       "    </tr>\n",
       "    <tr>\n",
       "      <th>3</th>\n",
       "      <td>$14,000 day gain thanks to SPY puts</td>\n",
       "      <td>56</td>\n",
       "      <td>ykfl21</td>\n",
       "      <td>wallstreetbets</td>\n",
       "      <td>https://www.reddit.com/gallery/ykfl21</td>\n",
       "      <td>17</td>\n",
       "      <td></td>\n",
       "      <td>1.667419e+09</td>\n",
       "    </tr>\n",
       "    <tr>\n",
       "      <th>4</th>\n",
       "      <td>11-2-22 SPY/ ES futures, Apple and Tesla Daily TA</td>\n",
       "      <td>23</td>\n",
       "      <td>ykh7d5</td>\n",
       "      <td>wallstreetbets</td>\n",
       "      <td>https://www.reddit.com/r/wallstreetbets/commen...</td>\n",
       "      <td>32</td>\n",
       "      <td>And just like that the bullish momentum and st...</td>\n",
       "      <td>1.667423e+09</td>\n",
       "    </tr>\n",
       "  </tbody>\n",
       "</table>\n",
       "</div>"
      ],
      "text/plain": [
       "                                               title  score      id  \\\n",
       "0  by the power of QQQ puts I can afford home own...    130  ykkit5   \n",
       "1     SPY Put Pivot Tendies: $400 to $8k and holding    114  ykj8wg   \n",
       "2  congrats to those who correctly timed SPY opti...    140  ykeket   \n",
       "3                $14,000 day gain thanks to SPY puts     56  ykfl21   \n",
       "4  11-2-22 SPY/ ES futures, Apple and Tesla Daily TA     23  ykh7d5   \n",
       "\n",
       "        subreddit                                                url  \\\n",
       "0  wallstreetbets                https://i.redd.it/3136fea7amx91.jpg   \n",
       "1  wallstreetbets                https://i.redd.it/25w0kfln2mx91.jpg   \n",
       "2  wallstreetbets                https://i.redd.it/oh56h9p3smx91.jpg   \n",
       "3  wallstreetbets              https://www.reddit.com/gallery/ykfl21   \n",
       "4  wallstreetbets  https://www.reddit.com/r/wallstreetbets/commen...   \n",
       "\n",
       "   num_comments                                               body  \\\n",
       "0             2                                                      \n",
       "1            34                                                      \n",
       "2            17                                                      \n",
       "3            17                                                      \n",
       "4            32  And just like that the bullish momentum and st...   \n",
       "\n",
       "        created  \n",
       "0  1.667429e+09  \n",
       "1  1.667427e+09  \n",
       "2  1.667417e+09  \n",
       "3  1.667419e+09  \n",
       "4  1.667423e+09  "
      ]
     },
     "execution_count": 163,
     "metadata": {},
     "output_type": "execute_result"
    }
   ],
   "source": [
    "df_v1.head()"
   ]
  },
  {
   "cell_type": "code",
   "execution_count": 164,
   "metadata": {},
   "outputs": [
    {
     "data": {
      "text/html": [
       "<div>\n",
       "<style scoped>\n",
       "    .dataframe tbody tr th:only-of-type {\n",
       "        vertical-align: middle;\n",
       "    }\n",
       "\n",
       "    .dataframe tbody tr th {\n",
       "        vertical-align: top;\n",
       "    }\n",
       "\n",
       "    .dataframe thead th {\n",
       "        text-align: right;\n",
       "    }\n",
       "</style>\n",
       "<table border=\"1\" class=\"dataframe\">\n",
       "  <thead>\n",
       "    <tr style=\"text-align: right;\">\n",
       "      <th></th>\n",
       "      <th>stock</th>\n",
       "      <th>subreddit</th>\n",
       "      <th>type</th>\n",
       "      <th>post_title</th>\n",
       "      <th>selftext</th>\n",
       "      <th>ups</th>\n",
       "      <th>id</th>\n",
       "      <th>time</th>\n",
       "    </tr>\n",
       "  </thead>\n",
       "  <tbody>\n",
       "    <tr>\n",
       "      <th>0</th>\n",
       "      <td>SPY</td>\n",
       "      <td>wallstreetbets</td>\n",
       "      <td>POST</td>\n",
       "      <td>SPY Put Pivot Tendies: $400 to $8k and holding</td>\n",
       "      <td></td>\n",
       "      <td>115</td>\n",
       "      <td>ykj8wg</td>\n",
       "      <td>2022-11-02T15:07:57Z</td>\n",
       "    </tr>\n",
       "    <tr>\n",
       "      <th>1</th>\n",
       "      <td>SPY</td>\n",
       "      <td>wallstreetbets</td>\n",
       "      <td>COMMENT</td>\n",
       "      <td>SPY Put Pivot Tendies: $400 to $8k and holding</td>\n",
       "      <td>\\n**User Report**| | | |\\n:--|:--|:--|:--\\n**T...</td>\n",
       "      <td>1</td>\n",
       "      <td>ykj8wg</td>\n",
       "      <td>2022-11-02T15:08:02Z</td>\n",
       "    </tr>\n",
       "    <tr>\n",
       "      <th>2</th>\n",
       "      <td>SPY</td>\n",
       "      <td>wallstreetbets</td>\n",
       "      <td>COMMENT</td>\n",
       "      <td>SPY Put Pivot Tendies: $400 to $8k and holding</td>\n",
       "      <td>I'm confused, how did you buy 7 of those optio...</td>\n",
       "      <td>17</td>\n",
       "      <td>ykj8wg</td>\n",
       "      <td>2022-11-02T15:24:16Z</td>\n",
       "    </tr>\n",
       "    <tr>\n",
       "      <th>3</th>\n",
       "      <td>SPY</td>\n",
       "      <td>wallstreetbets</td>\n",
       "      <td>COMMENT</td>\n",
       "      <td>SPY Put Pivot Tendies: $400 to $8k and holding</td>\n",
       "      <td>Congrats</td>\n",
       "      <td>9</td>\n",
       "      <td>ykj8wg</td>\n",
       "      <td>2022-11-02T15:12:39Z</td>\n",
       "    </tr>\n",
       "    <tr>\n",
       "      <th>4</th>\n",
       "      <td>SPY</td>\n",
       "      <td>wallstreetbets</td>\n",
       "      <td>COMMENT</td>\n",
       "      <td>SPY Put Pivot Tendies: $400 to $8k and holding</td>\n",
       "      <td>Started with $20 a month ago. Now at $120. I w...</td>\n",
       "      <td>6</td>\n",
       "      <td>ykj8wg</td>\n",
       "      <td>2022-11-02T16:21:35Z</td>\n",
       "    </tr>\n",
       "  </tbody>\n",
       "</table>\n",
       "</div>"
      ],
      "text/plain": [
       "  stock       subreddit     type  \\\n",
       "0   SPY  wallstreetbets     POST   \n",
       "1   SPY  wallstreetbets  COMMENT   \n",
       "2   SPY  wallstreetbets  COMMENT   \n",
       "3   SPY  wallstreetbets  COMMENT   \n",
       "4   SPY  wallstreetbets  COMMENT   \n",
       "\n",
       "                                       post_title  \\\n",
       "0  SPY Put Pivot Tendies: $400 to $8k and holding   \n",
       "1  SPY Put Pivot Tendies: $400 to $8k and holding   \n",
       "2  SPY Put Pivot Tendies: $400 to $8k and holding   \n",
       "3  SPY Put Pivot Tendies: $400 to $8k and holding   \n",
       "4  SPY Put Pivot Tendies: $400 to $8k and holding   \n",
       "\n",
       "                                            selftext  ups      id  \\\n",
       "0                                                     115  ykj8wg   \n",
       "1  \\n**User Report**| | | |\\n:--|:--|:--|:--\\n**T...    1  ykj8wg   \n",
       "2  I'm confused, how did you buy 7 of those optio...   17  ykj8wg   \n",
       "3                                           Congrats    9  ykj8wg   \n",
       "4  Started with $20 a month ago. Now at $120. I w...    6  ykj8wg   \n",
       "\n",
       "                   time  \n",
       "0  2022-11-02T15:07:57Z  \n",
       "1  2022-11-02T15:08:02Z  \n",
       "2  2022-11-02T15:24:16Z  \n",
       "3  2022-11-02T15:12:39Z  \n",
       "4  2022-11-02T16:21:35Z  "
      ]
     },
     "execution_count": 164,
     "metadata": {},
     "output_type": "execute_result"
    }
   ],
   "source": [
    "df_v2.head()"
   ]
  },
  {
   "cell_type": "code",
   "execution_count": 165,
   "metadata": {},
   "outputs": [
    {
     "data": {
      "text/plain": [
       "((111, 8), (5110, 8))"
      ]
     },
     "execution_count": 165,
     "metadata": {},
     "output_type": "execute_result"
    }
   ],
   "source": [
    "df_v1.shape, df_v2.shape"
   ]
  },
  {
   "cell_type": "markdown",
   "metadata": {},
   "source": [
    "* explore score, upvotes, comments"
   ]
  },
  {
   "cell_type": "markdown",
   "metadata": {},
   "source": [
    "- first function does not pull enough content \n",
    "- first does not include comments only post titles \n",
    "- second function might be pulling in too much noise \n",
    "- second function might be pulling too many comments"
   ]
  },
  {
   "cell_type": "markdown",
   "metadata": {},
   "source": []
  }
 ],
 "metadata": {
  "kernelspec": {
   "display_name": "Python 3.9.7 ('base')",
   "language": "python",
   "name": "python3"
  },
  "language_info": {
   "codemirror_mode": {
    "name": "ipython",
    "version": 3
   },
   "file_extension": ".py",
   "mimetype": "text/x-python",
   "name": "python",
   "nbconvert_exporter": "python",
   "pygments_lexer": "ipython3",
   "version": "3.9.13"
  },
  "orig_nbformat": 4,
  "vscode": {
   "interpreter": {
    "hash": "7b7c0dd9955389ce4a008bd6bed1158d9bdfe709402d1bb0283b1c52cc17d8be"
   }
  }
 },
 "nbformat": 4,
 "nbformat_minor": 2
}
