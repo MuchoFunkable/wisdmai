{
 "cells": [
  {
   "attachments": {},
   "cell_type": "markdown",
   "metadata": {},
   "source": [
    "# Google API \n",
    "\n",
    "Goals: \n",
    "- access wisdm spreadsheet\n",
    "- modify wisdm spreadsheet\n",
    "- save changes to wisdm spreadsheet"
   ]
  },
  {
   "attachments": {},
   "cell_type": "markdown",
   "metadata": {},
   "source": [
    "# Access"
   ]
  },
  {
   "cell_type": "code",
   "execution_count": 4,
   "metadata": {},
   "outputs": [],
   "source": [
    "# Imports \n",
    "from __future__ import print_function\n",
    "import os.path\n",
    "\n",
    "\n",
    "from google.auth.transport.requests import Request\n",
    "from google.oauth2.credentials import Credentials\n",
    "from google_auth_oauthlib.flow import InstalledAppFlow\n",
    "from googleapiclient.discovery import build\n",
    "from googleapiclient.errors import HttpError\n",
    "\n"
   ]
  },
  {
   "cell_type": "code",
   "execution_count": 5,
   "metadata": {},
   "outputs": [],
   "source": [
    "# If modifying these scopes, delete the file token.json.\n",
    "SCOPES = ['https://www.googleapis.com/auth/spreadsheets']"
   ]
  },
  {
   "cell_type": "code",
   "execution_count": 6,
   "metadata": {},
   "outputs": [],
   "source": [
    "# The ID and range of a sample spreadsheet.\n",
    "SAMPLE_SPREADSHEET_ID = '1yS4PeIQUhA5pe2Wq8aMgiCukX47sQafIa4f0-BzM2rU'\n",
    "SAMPLE_RANGE_NAME = 'Wisdm Supported Stocks'\n"
   ]
  },
  {
   "cell_type": "code",
   "execution_count": 12,
   "metadata": {},
   "outputs": [],
   "source": [
    "# The file token.json stores the user's access and refresh tokens, and is\n",
    "# created automatically when the authorization flow completes for the first\n",
    "# time.\n",
    "creds = None\n",
    "token_path = '/Users/dennisle/Documents/GitHub/wisdmai/Scripts/Google/token.json'\n",
    "credentials_path = \n",
    "creds"
   ]
  },
  {
   "cell_type": "code",
   "execution_count": 15,
   "metadata": {},
   "outputs": [
    {
     "data": {
      "text/plain": [
       "<google.oauth2.credentials.Credentials at 0x10cf1e810>"
      ]
     },
     "execution_count": 15,
     "metadata": {},
     "output_type": "execute_result"
    }
   ],
   "source": [
    "# Access API w/ token\n",
    "if os.path.exists(token_path):\n",
    "    creds = Credentials.from_authorized_user_file(token_path, SCOPES)\n",
    "\n",
    "creds\n",
    "# If there are no (valid) credentials available, let the user log in.\n"
   ]
  },
  {
   "cell_type": "code",
   "execution_count": 18,
   "metadata": {},
   "outputs": [
    {
     "data": {
      "text/plain": [
       "True"
      ]
     },
     "execution_count": 18,
     "metadata": {},
     "output_type": "execute_result"
    }
   ],
   "source": [
    "not creds.valid"
   ]
  },
  {
   "cell_type": "code",
   "execution_count": 16,
   "metadata": {},
   "outputs": [
    {
     "ename": "RefreshError",
     "evalue": "('invalid_grant: Token has been expired or revoked.', {'error': 'invalid_grant', 'error_description': 'Token has been expired or revoked.'})",
     "output_type": "error",
     "traceback": [
      "\u001b[0;31m---------------------------------------------------------------------------\u001b[0m",
      "\u001b[0;31mRefreshError\u001b[0m                              Traceback (most recent call last)",
      "Cell \u001b[0;32mIn[16], line 5\u001b[0m\n\u001b[1;32m      3\u001b[0m \u001b[39mif\u001b[39;00m \u001b[39mnot\u001b[39;00m creds \u001b[39mor\u001b[39;00m \u001b[39mnot\u001b[39;00m creds\u001b[39m.\u001b[39mvalid:\n\u001b[1;32m      4\u001b[0m     \u001b[39mif\u001b[39;00m creds \u001b[39mand\u001b[39;00m creds\u001b[39m.\u001b[39mexpired \u001b[39mand\u001b[39;00m creds\u001b[39m.\u001b[39mrefresh_token:\n\u001b[0;32m----> 5\u001b[0m         creds\u001b[39m.\u001b[39;49mrefresh(Request())\n\u001b[1;32m      6\u001b[0m     \u001b[39melse\u001b[39;00m:\n\u001b[1;32m      7\u001b[0m         flow \u001b[39m=\u001b[39m InstalledAppFlow\u001b[39m.\u001b[39mfrom_client_secrets_file(\n\u001b[1;32m      8\u001b[0m             \u001b[39m'\u001b[39m\u001b[39mcredentials.json\u001b[39m\u001b[39m'\u001b[39m, SCOPES)\n",
      "File \u001b[0;32m/opt/homebrew/lib/python3.11/site-packages/google/oauth2/credentials.py:335\u001b[0m, in \u001b[0;36mCredentials.refresh\u001b[0;34m(self, request)\u001b[0m\n\u001b[1;32m    317\u001b[0m \u001b[39mif\u001b[39;00m (\n\u001b[1;32m    318\u001b[0m     \u001b[39mself\u001b[39m\u001b[39m.\u001b[39m_refresh_token \u001b[39mis\u001b[39;00m \u001b[39mNone\u001b[39;00m\n\u001b[1;32m    319\u001b[0m     \u001b[39mor\u001b[39;00m \u001b[39mself\u001b[39m\u001b[39m.\u001b[39m_token_uri \u001b[39mis\u001b[39;00m \u001b[39mNone\u001b[39;00m\n\u001b[1;32m    320\u001b[0m     \u001b[39mor\u001b[39;00m \u001b[39mself\u001b[39m\u001b[39m.\u001b[39m_client_id \u001b[39mis\u001b[39;00m \u001b[39mNone\u001b[39;00m\n\u001b[1;32m    321\u001b[0m     \u001b[39mor\u001b[39;00m \u001b[39mself\u001b[39m\u001b[39m.\u001b[39m_client_secret \u001b[39mis\u001b[39;00m \u001b[39mNone\u001b[39;00m\n\u001b[1;32m    322\u001b[0m ):\n\u001b[1;32m    323\u001b[0m     \u001b[39mraise\u001b[39;00m exceptions\u001b[39m.\u001b[39mRefreshError(\n\u001b[1;32m    324\u001b[0m         \u001b[39m\"\u001b[39m\u001b[39mThe credentials do not contain the necessary fields need to \u001b[39m\u001b[39m\"\u001b[39m\n\u001b[1;32m    325\u001b[0m         \u001b[39m\"\u001b[39m\u001b[39mrefresh the access token. You must specify refresh_token, \u001b[39m\u001b[39m\"\u001b[39m\n\u001b[1;32m    326\u001b[0m         \u001b[39m\"\u001b[39m\u001b[39mtoken_uri, client_id, and client_secret.\u001b[39m\u001b[39m\"\u001b[39m\n\u001b[1;32m    327\u001b[0m     )\n\u001b[1;32m    329\u001b[0m (\n\u001b[1;32m    330\u001b[0m     access_token,\n\u001b[1;32m    331\u001b[0m     refresh_token,\n\u001b[1;32m    332\u001b[0m     expiry,\n\u001b[1;32m    333\u001b[0m     grant_response,\n\u001b[1;32m    334\u001b[0m     rapt_token,\n\u001b[0;32m--> 335\u001b[0m ) \u001b[39m=\u001b[39m reauth\u001b[39m.\u001b[39;49mrefresh_grant(\n\u001b[1;32m    336\u001b[0m     request,\n\u001b[1;32m    337\u001b[0m     \u001b[39mself\u001b[39;49m\u001b[39m.\u001b[39;49m_token_uri,\n\u001b[1;32m    338\u001b[0m     \u001b[39mself\u001b[39;49m\u001b[39m.\u001b[39;49m_refresh_token,\n\u001b[1;32m    339\u001b[0m     \u001b[39mself\u001b[39;49m\u001b[39m.\u001b[39;49m_client_id,\n\u001b[1;32m    340\u001b[0m     \u001b[39mself\u001b[39;49m\u001b[39m.\u001b[39;49m_client_secret,\n\u001b[1;32m    341\u001b[0m     scopes\u001b[39m=\u001b[39;49mscopes,\n\u001b[1;32m    342\u001b[0m     rapt_token\u001b[39m=\u001b[39;49m\u001b[39mself\u001b[39;49m\u001b[39m.\u001b[39;49m_rapt_token,\n\u001b[1;32m    343\u001b[0m     enable_reauth_refresh\u001b[39m=\u001b[39;49m\u001b[39mself\u001b[39;49m\u001b[39m.\u001b[39;49m_enable_reauth_refresh,\n\u001b[1;32m    344\u001b[0m )\n\u001b[1;32m    346\u001b[0m \u001b[39mself\u001b[39m\u001b[39m.\u001b[39mtoken \u001b[39m=\u001b[39m access_token\n\u001b[1;32m    347\u001b[0m \u001b[39mself\u001b[39m\u001b[39m.\u001b[39mexpiry \u001b[39m=\u001b[39m expiry\n",
      "File \u001b[0;32m/opt/homebrew/lib/python3.11/site-packages/google/oauth2/reauth.py:349\u001b[0m, in \u001b[0;36mrefresh_grant\u001b[0;34m(request, token_uri, refresh_token, client_id, client_secret, scopes, rapt_token, enable_reauth_refresh)\u001b[0m\n\u001b[1;32m    342\u001b[0m     (\n\u001b[1;32m    343\u001b[0m         response_status_ok,\n\u001b[1;32m    344\u001b[0m         response_data,\n\u001b[1;32m    345\u001b[0m         retryable_error,\n\u001b[1;32m    346\u001b[0m     ) \u001b[39m=\u001b[39m _client\u001b[39m.\u001b[39m_token_endpoint_request_no_throw(request, token_uri, body)\n\u001b[1;32m    348\u001b[0m \u001b[39mif\u001b[39;00m \u001b[39mnot\u001b[39;00m response_status_ok:\n\u001b[0;32m--> 349\u001b[0m     _client\u001b[39m.\u001b[39;49m_handle_error_response(response_data, retryable_error)\n\u001b[1;32m    350\u001b[0m \u001b[39mreturn\u001b[39;00m _client\u001b[39m.\u001b[39m_handle_refresh_grant_response(response_data, refresh_token) \u001b[39m+\u001b[39m (\n\u001b[1;32m    351\u001b[0m     rapt_token,\n\u001b[1;32m    352\u001b[0m )\n",
      "File \u001b[0;32m/opt/homebrew/lib/python3.11/site-packages/google/oauth2/_client.py:69\u001b[0m, in \u001b[0;36m_handle_error_response\u001b[0;34m(response_data, retryable_error)\u001b[0m\n\u001b[1;32m     66\u001b[0m \u001b[39mexcept\u001b[39;00m (\u001b[39mKeyError\u001b[39;00m, \u001b[39mValueError\u001b[39;00m):\n\u001b[1;32m     67\u001b[0m     error_details \u001b[39m=\u001b[39m json\u001b[39m.\u001b[39mdumps(response_data)\n\u001b[0;32m---> 69\u001b[0m \u001b[39mraise\u001b[39;00m exceptions\u001b[39m.\u001b[39mRefreshError(\n\u001b[1;32m     70\u001b[0m     error_details, response_data, retryable\u001b[39m=\u001b[39mretryable_error\n\u001b[1;32m     71\u001b[0m )\n",
      "\u001b[0;31mRefreshError\u001b[0m: ('invalid_grant: Token has been expired or revoked.', {'error': 'invalid_grant', 'error_description': 'Token has been expired or revoked.'})"
     ]
    }
   ],
   "source": [
    "#If valid credntials don't exist\n",
    "\n",
    "if not creds or not creds.valid:\n",
    "    if creds and creds.expired and creds.refresh_token:\n",
    "        creds.refresh(Request())\n",
    "    else:\n",
    "        flow = InstalledAppFlow.from_client_secrets_file(\n",
    "            'credentials.json', SCOPES)\n",
    "        creds = flow.run_local_server(port=0)\n",
    "    # Save the credentials for the next run\n",
    "    with open('token.json', 'w') as token:\n",
    "        token.write(creds.to_json())"
   ]
  },
  {
   "cell_type": "code",
   "execution_count": 11,
   "metadata": {},
   "outputs": [
    {
     "data": {
      "text/plain": [
       "False"
      ]
     },
     "execution_count": 11,
     "metadata": {},
     "output_type": "execute_result"
    }
   ],
   "source": [
    "not creds"
   ]
  },
  {
   "attachments": {},
   "cell_type": "markdown",
   "metadata": {},
   "source": [
    "\n",
    "\n",
    "\n",
    "\n",
    "    \n",
    "    if not creds or not creds.valid:\n",
    "        if creds and creds.expired and creds.refresh_token:\n",
    "            creds.refresh(Request())\n",
    "        else:\n",
    "            flow = InstalledAppFlow.from_client_secrets_file(\n",
    "                'credentials.json', SCOPES)\n",
    "            creds = flow.run_local_server(port=0)\n",
    "        # Save the credentials for the next run\n",
    "        with open('token.json', 'w') as token:\n",
    "            token.write(creds.to_json())\n",
    "\n",
    "    try:\n",
    "        service = build('sheets', 'v4', credentials=creds)\n",
    "\n",
    "\n",
    "        #paremeters \n",
    "        # How the input data should be interpreted.\n",
    "        value_input_option = ''  # TODO: Update placeholder value.\n",
    "\n",
    "        value_range_body = {\n",
    "            # TODO: Add desired entries to the request body. All existing entries\n",
    "            # will be replaced.\n",
    "        }\n",
    "\n",
    "        # Call the Sheets API\n",
    "        sheet = service.spreadsheets()\n",
    "        result = sheet.values().get(spreadsheetId=SAMPLE_SPREADSHEET_ID,\n",
    "                                    range=SAMPLE_RANGE_NAME\n",
    "                                    ).execute()\n",
    "        values = result.get('values', [])\n",
    "\n",
    "        if not values:\n",
    "            print('No data found.')\n",
    "            return\n",
    "\n",
    "        for row in values:\n",
    "            # Print columns A and E, which correspond to indices 0 and 4.\n",
    "            #row[2] = '03/04/2023'\n",
    "            print('%s, %s, %s' % (row[0], row[1], row[2]))\n",
    "    except HttpError as err:\n",
    "        print(err)\n",
    "\n",
    "\n",
    "if __name__ == '__main__':\n",
    "    main()"
   ]
  }
 ],
 "metadata": {
  "kernelspec": {
   "display_name": "Python 3",
   "language": "python",
   "name": "python3"
  },
  "language_info": {
   "codemirror_mode": {
    "name": "ipython",
    "version": 3
   },
   "file_extension": ".py",
   "mimetype": "text/x-python",
   "name": "python",
   "nbconvert_exporter": "python",
   "pygments_lexer": "ipython3",
   "version": "3.11.2"
  },
  "orig_nbformat": 4,
  "vscode": {
   "interpreter": {
    "hash": "b0fa6594d8f4cbf19f97940f81e996739fb7646882a419484c72d19e05852a7e"
   }
  }
 },
 "nbformat": 4,
 "nbformat_minor": 2
}
