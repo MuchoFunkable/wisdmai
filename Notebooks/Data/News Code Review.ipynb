{
 "cells": [
  {
   "cell_type": "markdown",
   "metadata": {},
   "source": [
    "# New Code Review \n",
    "\n",
    "Goals \n",
    "* Analyze news api code "
   ]
  },
  {
   "cell_type": "markdown",
   "metadata": {},
   "source": [
    "# Agranya's code"
   ]
  },
  {
   "cell_type": "code",
   "execution_count": 2,
   "metadata": {},
   "outputs": [],
   "source": [
    "#pip install newsapi-python"
   ]
  },
  {
   "cell_type": "code",
   "execution_count": 45,
   "metadata": {},
   "outputs": [],
   "source": [
    "import requests\n",
    "from newsapi import NewsApiClient\n",
    "import json\n",
    "import pandas as pd\n",
    "from datetime import datetime, timedelta\n",
    "import numpy as np\n",
    "\n",
    "import math"
   ]
  },
  {
   "cell_type": "code",
   "execution_count": 8,
   "metadata": {},
   "outputs": [
    {
     "name": "stdout",
     "output_type": "stream",
     "text": [
      "<Response [200]>\n"
     ]
    }
   ],
   "source": [
    "newsapi_APIkey = '5d87fd57f2a3427ab10fd1f582c06748'\n",
    "#newsapi_APIkey = '647d0c7e3dff4bb2a550b7aa5db477c7'\n",
    "\n",
    "newsapi_APIurl = 'https://newsapi.org/v2/everything?q=keyword&apiKey=' + newsapi_APIkey\n",
    "response = requests.get(newsapi_APIurl)\n",
    "\n",
    "print(response)"
   ]
  },
  {
   "cell_type": "code",
   "execution_count": 11,
   "metadata": {},
   "outputs": [],
   "source": [
    "newsapi = NewsApiClient(api_key = newsapi_APIkey)"
   ]
  },
  {
   "cell_type": "code",
   "execution_count": 5,
   "metadata": {},
   "outputs": [
    {
     "name": "stdout",
     "output_type": "stream",
     "text": [
      "2022-11-08T23:15:21 2022-11-08T19:15:21\n"
     ]
    }
   ],
   "source": [
    "today = datetime.today().strftime('%Y-%m-%d')\n",
    "change_days = (datetime.today()-timedelta(days=4)).strftime('%Y-%m-%d')\n",
    "#print(today, change)\n",
    "\n",
    "now = datetime.now().strftime('%Y-%m-%dT%H:%M:%S')\n",
    "change_hrs = (datetime.now()-timedelta(hours=4)).strftime('%Y-%m-%dT%H:%M:%S')\n",
    "print(now, change_hrs)"
   ]
  },
  {
   "cell_type": "code",
   "execution_count": 7,
   "metadata": {},
   "outputs": [],
   "source": [
    "ticker = 'snap'\n",
    "\n",
    "newsapi = NewsApiClient(api_key = newsapi_APIkey)\n"
   ]
  },
  {
   "cell_type": "code",
   "execution_count": 8,
   "metadata": {},
   "outputs": [],
   "source": [
    "top_headlines = newsapi.get_top_headlines(q = ticker, \n",
    "                                          category='business',\n",
    "                                          country='us')\n",
    "\n",
    "pretty_top_headlines = json.dumps(top_headlines, indent = 1)\n",
    "\n",
    "all_articles = newsapi.get_everything(q=ticker,\n",
    "                                      sources='bbc-news,the-verge',\n",
    "                                      domains='bbc.co.uk,techcrunch.com',\n",
    "                                      from_param=change_hrs,\n",
    "                                      to=now,\n",
    "                                      language='en')\n",
    "\n",
    "pretty_all_articles = json.dumps(all_articles, indent = 1)"
   ]
  },
  {
   "cell_type": "code",
   "execution_count": 9,
   "metadata": {},
   "outputs": [
    {
     "name": "stdout",
     "output_type": "stream",
     "text": [
      "0\n"
     ]
    }
   ],
   "source": [
    "json_pth = json.loads(pretty_top_headlines)\n",
    "print(json_pth[\"totalResults\"])"
   ]
  },
  {
   "cell_type": "code",
   "execution_count": 10,
   "metadata": {},
   "outputs": [
    {
     "name": "stdout",
     "output_type": "stream",
     "text": [
      "{'status': 'ok', 'totalResults': 0, 'articles': []}\n"
     ]
    }
   ],
   "source": [
    "print(top_headlines)"
   ]
  },
  {
   "cell_type": "code",
   "execution_count": 11,
   "metadata": {},
   "outputs": [
    {
     "name": "stdout",
     "output_type": "stream",
     "text": [
      "{'status': 'ok', 'totalResults': 1, 'articles': [{'source': {'id': 'the-verge', 'name': 'The Verge'}, 'author': 'Makena Kelly', 'title': 'The midterms turned politicians into content creators', 'description': 'Eight million members of Gen Z became eligible to vote in the midterm elections this year. Candidates like Josh Shapiro and John Fetterman are using popular platforms like BeReal and TikTok to get them out to vote.', 'url': 'https://www.theverge.com/2022/11/8/23447655/midterm-elections-tiktok-bereal-josh-shapiro-john-fetterman-tim-ryan', 'urlToImage': 'https://cdn.vox-cdn.com/thumbor/C2u8sEQ7VNM-SfMelh2T_-SOTVo=/0x0:3439x2293/1200x628/filters:focal(2247x1074:2248x1075)/cdn.vox-cdn.com/uploads/chorus_asset/file/24179059/1244531631.jpg', 'publishedAt': '2022-11-08T19:09:05Z', 'content': 'The midterms turned politicians into content creators\\r\\nThe midterms turned politicians into content creators\\r\\n / More than 8 million young people became eligible to vote this year. They want the same… [+7469 chars]'}]}\n"
     ]
    }
   ],
   "source": [
    "print(all_articles)"
   ]
  },
  {
   "cell_type": "code",
   "execution_count": 43,
   "metadata": {},
   "outputs": [
    {
     "name": "stdout",
     "output_type": "stream",
     "text": [
      "Top headlines 3\n",
      "Total articles 299\n"
     ]
    }
   ],
   "source": [
    "th_sources = 0\n",
    "aa_sources = 0\n",
    "tickers = ['msft', 'twtr', 'snap', 'hood', 'wmt', 'pton', 'wish', 'cprx', 'tsla', 'aapl']\n",
    "for i in range(len(tickers)):\n",
    "    curr_ticker = tickers[i]\n",
    "    th = newsapi.get_top_headlines(q=curr_ticker, \n",
    "                                   category='business',\n",
    "                                   country='us')\n",
    "    pretty_th = json.dumps(th, indent = 1)\n",
    "    aa = newsapi.get_everything(q=curr_ticker,\n",
    "                                #sources='bbc-news,the-verge',\n",
    "                                #domains='bbc.co.uk,techcrunch.com',\n",
    "                                from_param=change_hrs,\n",
    "                                to=now,\n",
    "                                language='en')\n",
    "    pretty_aa = json.dumps(aa, indent = 1)\n",
    "    json_th = json.loads(pretty_th)\n",
    "    json_aa = json.loads(pretty_aa)\n",
    "    #print(curr_ticker, json_th[\"totalResults\"], \",\", json_aa[\"totalResults\"])\n",
    "    #print(pretty_aa, \"\\n\\n\\nSPLIT\\n\\n\\n\")\n",
    "    th_sources += json_th[\"totalResults\"]\n",
    "    aa_sources += json_aa[\"totalResults\"]\n",
    "print(\"Top headlines\", th_sources)\n",
    "print(\"Total articles\", aa_sources)"
   ]
  },
  {
   "cell_type": "markdown",
   "metadata": {},
   "source": [
    "# Wisdm Code"
   ]
  },
  {
   "cell_type": "code",
   "execution_count": 170,
   "metadata": {},
   "outputs": [],
   "source": [
    "th_sources = 0\n",
    "aa_sources = 0\n",
    "tickers = ['msft', 'twtr', 'snap', 'hood', 'wmt', 'pton', 'wish', 'cprx', 'tsla', 'aapl']"
   ]
  },
  {
   "cell_type": "code",
   "execution_count": 171,
   "metadata": {},
   "outputs": [],
   "source": [
    "ticker = 'tsla'\n",
    "top_headlines = newsapi.get_top_headlines(q=ticker, \n",
    "                                   category='business',\n",
    "                                   country='us')"
   ]
  },
  {
   "cell_type": "code",
   "execution_count": 172,
   "metadata": {},
   "outputs": [
    {
     "data": {
      "text/plain": [
       "1"
      ]
     },
     "execution_count": 172,
     "metadata": {},
     "output_type": "execute_result"
    }
   ],
   "source": [
    "top_headlines['totalResults']"
   ]
  },
  {
   "cell_type": "code",
   "execution_count": 173,
   "metadata": {},
   "outputs": [
    {
     "data": {
      "text/html": [
       "<div>\n",
       "<style scoped>\n",
       "    .dataframe tbody tr th:only-of-type {\n",
       "        vertical-align: middle;\n",
       "    }\n",
       "\n",
       "    .dataframe tbody tr th {\n",
       "        vertical-align: top;\n",
       "    }\n",
       "\n",
       "    .dataframe thead th {\n",
       "        text-align: right;\n",
       "    }\n",
       "</style>\n",
       "<table border=\"1\" class=\"dataframe\">\n",
       "  <thead>\n",
       "    <tr style=\"text-align: right;\">\n",
       "      <th></th>\n",
       "      <th>author</th>\n",
       "      <th>title</th>\n",
       "      <th>description</th>\n",
       "      <th>url</th>\n",
       "      <th>urlToImage</th>\n",
       "      <th>publishedAt</th>\n",
       "      <th>content</th>\n",
       "      <th>source.id</th>\n",
       "      <th>source.name</th>\n",
       "      <th>top</th>\n",
       "    </tr>\n",
       "  </thead>\n",
       "  <tbody>\n",
       "    <tr>\n",
       "      <th>0</th>\n",
       "      <td>None</td>\n",
       "      <td>Musk sells Tesla shares worth $3.95 bln days a...</td>\n",
       "      <td>Tesla Inc &lt;a href=\"https://www.reuters.com/com...</td>\n",
       "      <td>https://www.reuters.com/business/autos-transpo...</td>\n",
       "      <td>https://www.reuters.com/resizer/p_lj8m9G343pN9...</td>\n",
       "      <td>2022-11-09T02:52:00Z</td>\n",
       "      <td>Nov 8 (Reuters) - Tesla Inc (TSLA.O) Chief Exe...</td>\n",
       "      <td>reuters</td>\n",
       "      <td>Reuters</td>\n",
       "      <td>1.0</td>\n",
       "    </tr>\n",
       "  </tbody>\n",
       "</table>\n",
       "</div>"
      ],
      "text/plain": [
       "  author                                              title  \\\n",
       "0   None  Musk sells Tesla shares worth $3.95 bln days a...   \n",
       "\n",
       "                                         description  \\\n",
       "0  Tesla Inc <a href=\"https://www.reuters.com/com...   \n",
       "\n",
       "                                                 url  \\\n",
       "0  https://www.reuters.com/business/autos-transpo...   \n",
       "\n",
       "                                          urlToImage           publishedAt  \\\n",
       "0  https://www.reuters.com/resizer/p_lj8m9G343pN9...  2022-11-09T02:52:00Z   \n",
       "\n",
       "                                             content source.id source.name  \\\n",
       "0  Nov 8 (Reuters) - Tesla Inc (TSLA.O) Chief Exe...   reuters     Reuters   \n",
       "\n",
       "   top  \n",
       "0  1.0  "
      ]
     },
     "execution_count": 173,
     "metadata": {},
     "output_type": "execute_result"
    }
   ],
   "source": [
    "top = pd.json_normalize(top_headlines['articles'])\n",
    "top['top'] = np.ones(len(top))\n",
    "top.head()"
   ]
  },
  {
   "cell_type": "code",
   "execution_count": 183,
   "metadata": {},
   "outputs": [
    {
     "data": {
      "text/plain": [
       "'Nov 8 (Reuters) - Tesla Inc (TSLA.O) Chief Executive Officer Elon Musk has sold 19.5 million shares of the electric vehicle maker worth $3.95 billion on Tuesday, according to U.S. securities filings,… [+1593 chars]'"
      ]
     },
     "execution_count": 183,
     "metadata": {},
     "output_type": "execute_result"
    }
   ],
   "source": [
    "top_headlines['articles'][0]['content']"
   ]
  },
  {
   "cell_type": "code",
   "execution_count": 17,
   "metadata": {},
   "outputs": [],
   "source": [
    "aa = newsapi.get_everything(q=curr_ticker,\n",
    "                                #sources='bbc-news,the-verge',\n",
    "                                #domains='bbc.co.uk,techcrunch.com',\n",
    "                                from_param=change_hrs,\n",
    "                                to=now,\n",
    "                                language='en')"
   ]
  },
  {
   "cell_type": "code",
   "execution_count": null,
   "metadata": {},
   "outputs": [],
   "source": [
    "aa['totalResults']"
   ]
  },
  {
   "cell_type": "code",
   "execution_count": null,
   "metadata": {},
   "outputs": [],
   "source": [
    "all = pd.json_normalize(aa['articles'])\n",
    "all['top'] = np.zeros(len(all)) \n",
    "all.head()"
   ]
  },
  {
   "cell_type": "code",
   "execution_count": null,
   "metadata": {},
   "outputs": [],
   "source": [
    "results = pd.concat([top, all])\n",
    "results.head()"
   ]
  },
  {
   "cell_type": "code",
   "execution_count": null,
   "metadata": {},
   "outputs": [],
   "source": [
    "results['ticker'] = np.repeat(ticker.upper(), len(results)) \n",
    "results.head()"
   ]
  },
  {
   "cell_type": "code",
   "execution_count": 51,
   "metadata": {},
   "outputs": [
    {
     "name": "stdout",
     "output_type": "stream",
     "text": [
      "pulling ticker:  msft\n",
      "pulling ticker:  twtr\n",
      "pulling ticker:  snap\n",
      "pulling ticker:  hood\n",
      "pulling ticker:  wmt\n",
      "pulling ticker:  pton\n",
      "pulling ticker:  wish\n",
      "pulling ticker:  cprx\n",
      "pulling ticker:  tsla\n",
      "pulling ticker:  aapl\n"
     ]
    }
   ],
   "source": [
    "tickers =['msft', 'twtr', 'snap', 'hood', 'wmt', 'pton', 'wish', 'cprx', 'tsla', 'aapl']\n",
    "\n",
    "\n",
    "df = pd.DataFrame()\n",
    "\n",
    "for ticker in tickers: \n",
    "    print(\"pulling ticker: \", ticker) \n",
    " \n",
    "\n",
    "    top_headlines = newsapi.get_top_headlines(q=ticker, \n",
    "                                   category='business',\n",
    "                                   country='us')\n",
    "\n",
    "    top_pages = top_headlines['totalResults']  \n",
    "\n",
    "    total_top_df = pd.DataFrame()\n",
    "\n",
    "    #for page in range(1,top_pages + 1):   \n",
    "    for page in range(1, 2):   \n",
    "        top_headlines = newsapi.get_top_headlines(q=ticker, \n",
    "                                    category='business', \n",
    "                                    country='us', \n",
    "                                    page = page)\n",
    "    \n",
    "        top_df = pd.json_normalize(top_headlines['articles'])\n",
    "        top_df['top'] = np.ones(len(top_df))\n",
    "        total_top_df = pd.concat([total_top_df, top_df])\n",
    "\n",
    "\n",
    "    all_articles = newsapi.get_everything(q=ticker,\n",
    "                                #sources='bbc-news,the-verge',\n",
    "                                #domains='bbc.co.uk,techcrunch.com',\n",
    "                                from_param=change_hrs,\n",
    "                                to=now,\n",
    "                                language='en')\n",
    "\n",
    "    all_articles_pages = all_articles['totalResults']\n",
    "\n",
    "    total_all_articles_df = pd.DataFrame()\n",
    "\n",
    "    #for page in range(1, all_articles_pages + 1): \n",
    "    for page in range(1, 2):     \n",
    "        all_articles = newsapi.get_everything(q=ticker,\n",
    "                                #sources='bbc-news,the-verge',\n",
    "                                #domains='bbc.co.uk,techcrunch.com',\n",
    "                                from_param=change_hrs,\n",
    "                                to=now,\n",
    "                                language='en', \n",
    "                                page = page)\n",
    "\n",
    "        all_df = pd.json_normalize(all_articles['articles'])\n",
    "        all_df['top'] = np.zeros(len(all_df)) \n",
    "\n",
    "        total_all_articles_df = pd.concat([total_all_articles_df, all_df])\n",
    "\n",
    "\n",
    "    results = pd.concat([top_df, all_df]) \n",
    "    results['ticker'] = np.repeat(ticker.upper(), len(results)) \n",
    "\n",
    "    df = pd.concat([df, results])\n",
    "\n",
    "\n"
   ]
  },
  {
   "cell_type": "code",
   "execution_count": 52,
   "metadata": {},
   "outputs": [
    {
     "data": {
      "text/html": [
       "<div>\n",
       "<style scoped>\n",
       "    .dataframe tbody tr th:only-of-type {\n",
       "        vertical-align: middle;\n",
       "    }\n",
       "\n",
       "    .dataframe tbody tr th {\n",
       "        vertical-align: top;\n",
       "    }\n",
       "\n",
       "    .dataframe thead th {\n",
       "        text-align: right;\n",
       "    }\n",
       "</style>\n",
       "<table border=\"1\" class=\"dataframe\">\n",
       "  <thead>\n",
       "    <tr style=\"text-align: right;\">\n",
       "      <th></th>\n",
       "      <th>top</th>\n",
       "      <th>author</th>\n",
       "      <th>title</th>\n",
       "      <th>description</th>\n",
       "      <th>url</th>\n",
       "      <th>urlToImage</th>\n",
       "      <th>publishedAt</th>\n",
       "      <th>content</th>\n",
       "      <th>source.id</th>\n",
       "      <th>source.name</th>\n",
       "      <th>ticker</th>\n",
       "    </tr>\n",
       "  </thead>\n",
       "  <tbody>\n",
       "    <tr>\n",
       "      <th>0</th>\n",
       "      <td>0.0</td>\n",
       "      <td>newsfeedback@fool.com (Eric Volkman)</td>\n",
       "      <td>Why Microsoft Stock Lagged the Market Today</td>\n",
       "      <td>Hardly for the first time in its life, the com...</td>\n",
       "      <td>https://www.fool.com/investing/2022/11/08/why-...</td>\n",
       "      <td>https://g.foolcdn.com/editorial/images/708510/...</td>\n",
       "      <td>2022-11-08T22:56:32Z</td>\n",
       "      <td>What happened\\r\\nTechnically speaking, Microso...</td>\n",
       "      <td>None</td>\n",
       "      <td>Motley Fool</td>\n",
       "      <td>MSFT</td>\n",
       "    </tr>\n",
       "    <tr>\n",
       "      <th>1</th>\n",
       "      <td>0.0</td>\n",
       "      <td>Brian Fung</td>\n",
       "      <td>EU opens deeper probe of Microsoft's Activisio...</td>\n",
       "      <td>The European Union is taking a closer look at ...</td>\n",
       "      <td>https://www.cnn.com/2022/11/08/tech/eu-probe-m...</td>\n",
       "      <td>https://media.cnn.com/api/v1/images/stellar/pr...</td>\n",
       "      <td>2022-11-08T19:19:48Z</td>\n",
       "      <td>The European Union is taking a closer look at ...</td>\n",
       "      <td>cnn</td>\n",
       "      <td>CNN</td>\n",
       "      <td>MSFT</td>\n",
       "    </tr>\n",
       "    <tr>\n",
       "      <th>2</th>\n",
       "      <td>0.0</td>\n",
       "      <td>Kevin Stankiewicz</td>\n",
       "      <td>Stocks usually climb in the year after midterm...</td>\n",
       "      <td>This exercise is designed to show how much sto...</td>\n",
       "      <td>https://www.cnbc.com/2022/11/08/midterm-electi...</td>\n",
       "      <td>https://image.cnbcfm.com/api/v1/image/10708776...</td>\n",
       "      <td>2022-11-08T20:53:33Z</td>\n",
       "      <td>Strange, but true: The S &amp;amp; P 500 has been ...</td>\n",
       "      <td>None</td>\n",
       "      <td>CNBC</td>\n",
       "      <td>MSFT</td>\n",
       "    </tr>\n",
       "    <tr>\n",
       "      <th>3</th>\n",
       "      <td>0.0</td>\n",
       "      <td>Caterer Goodman Partners</td>\n",
       "      <td>Don't Buy Meta Platforms Until There Is Fundam...</td>\n",
       "      <td>Meta Platforms revenue is declining primarily ...</td>\n",
       "      <td>https://seekingalpha.com/article/4554954-dont-...</td>\n",
       "      <td>https://static.seekingalpha.com/cdn/s3/uploads...</td>\n",
       "      <td>2022-11-08T21:23:25Z</td>\n",
       "      <td>5./15 WEST\\r\\nIs Meta a value buy or value tra...</td>\n",
       "      <td>None</td>\n",
       "      <td>Seeking Alpha</td>\n",
       "      <td>MSFT</td>\n",
       "    </tr>\n",
       "    <tr>\n",
       "      <th>4</th>\n",
       "      <td>0.0</td>\n",
       "      <td>MarketWatch Automation</td>\n",
       "      <td>Company Close Updates: Adobe Inc. stock rises ...</td>\n",
       "      <td>Shares of Adobe Inc. inched 0.88% higher to $3...</td>\n",
       "      <td>https://www.marketwatch.com/story/adobe-inc-st...</td>\n",
       "      <td>https://images.mktw.net/im-220105/social</td>\n",
       "      <td>2022-11-08T21:33:00Z</td>\n",
       "      <td>Shares of Adobe Inc. \\r\\n ADBE,\\r\\n +0.88%\\r\\n...</td>\n",
       "      <td>None</td>\n",
       "      <td>MarketWatch</td>\n",
       "      <td>MSFT</td>\n",
       "    </tr>\n",
       "  </tbody>\n",
       "</table>\n",
       "</div>"
      ],
      "text/plain": [
       "   top                                author  \\\n",
       "0  0.0  newsfeedback@fool.com (Eric Volkman)   \n",
       "1  0.0                            Brian Fung   \n",
       "2  0.0                     Kevin Stankiewicz   \n",
       "3  0.0              Caterer Goodman Partners   \n",
       "4  0.0                MarketWatch Automation   \n",
       "\n",
       "                                               title  \\\n",
       "0        Why Microsoft Stock Lagged the Market Today   \n",
       "1  EU opens deeper probe of Microsoft's Activisio...   \n",
       "2  Stocks usually climb in the year after midterm...   \n",
       "3  Don't Buy Meta Platforms Until There Is Fundam...   \n",
       "4  Company Close Updates: Adobe Inc. stock rises ...   \n",
       "\n",
       "                                         description  \\\n",
       "0  Hardly for the first time in its life, the com...   \n",
       "1  The European Union is taking a closer look at ...   \n",
       "2  This exercise is designed to show how much sto...   \n",
       "3  Meta Platforms revenue is declining primarily ...   \n",
       "4  Shares of Adobe Inc. inched 0.88% higher to $3...   \n",
       "\n",
       "                                                 url  \\\n",
       "0  https://www.fool.com/investing/2022/11/08/why-...   \n",
       "1  https://www.cnn.com/2022/11/08/tech/eu-probe-m...   \n",
       "2  https://www.cnbc.com/2022/11/08/midterm-electi...   \n",
       "3  https://seekingalpha.com/article/4554954-dont-...   \n",
       "4  https://www.marketwatch.com/story/adobe-inc-st...   \n",
       "\n",
       "                                          urlToImage           publishedAt  \\\n",
       "0  https://g.foolcdn.com/editorial/images/708510/...  2022-11-08T22:56:32Z   \n",
       "1  https://media.cnn.com/api/v1/images/stellar/pr...  2022-11-08T19:19:48Z   \n",
       "2  https://image.cnbcfm.com/api/v1/image/10708776...  2022-11-08T20:53:33Z   \n",
       "3  https://static.seekingalpha.com/cdn/s3/uploads...  2022-11-08T21:23:25Z   \n",
       "4           https://images.mktw.net/im-220105/social  2022-11-08T21:33:00Z   \n",
       "\n",
       "                                             content source.id    source.name  \\\n",
       "0  What happened\\r\\nTechnically speaking, Microso...      None    Motley Fool   \n",
       "1  The European Union is taking a closer look at ...       cnn            CNN   \n",
       "2  Strange, but true: The S &amp; P 500 has been ...      None           CNBC   \n",
       "3  5./15 WEST\\r\\nIs Meta a value buy or value tra...      None  Seeking Alpha   \n",
       "4  Shares of Adobe Inc. \\r\\n ADBE,\\r\\n +0.88%\\r\\n...      None    MarketWatch   \n",
       "\n",
       "  ticker  \n",
       "0   MSFT  \n",
       "1   MSFT  \n",
       "2   MSFT  \n",
       "3   MSFT  \n",
       "4   MSFT  "
      ]
     },
     "execution_count": 52,
     "metadata": {},
     "output_type": "execute_result"
    }
   ],
   "source": [
    "df.head()"
   ]
  },
  {
   "cell_type": "code",
   "execution_count": 87,
   "metadata": {},
   "outputs": [
    {
     "data": {
      "text/html": [
       "<div>\n",
       "<style scoped>\n",
       "    .dataframe tbody tr th:only-of-type {\n",
       "        vertical-align: middle;\n",
       "    }\n",
       "\n",
       "    .dataframe tbody tr th {\n",
       "        vertical-align: top;\n",
       "    }\n",
       "\n",
       "    .dataframe thead th {\n",
       "        text-align: right;\n",
       "    }\n",
       "</style>\n",
       "<table border=\"1\" class=\"dataframe\">\n",
       "  <thead>\n",
       "    <tr style=\"text-align: right;\">\n",
       "      <th></th>\n",
       "      <th>top</th>\n",
       "      <th>author</th>\n",
       "      <th>title</th>\n",
       "      <th>description</th>\n",
       "      <th>url</th>\n",
       "      <th>urlToImage</th>\n",
       "      <th>publishedAt</th>\n",
       "      <th>content</th>\n",
       "      <th>source.id</th>\n",
       "      <th>source.name</th>\n",
       "      <th>ticker</th>\n",
       "      <th>date</th>\n",
       "    </tr>\n",
       "  </thead>\n",
       "  <tbody>\n",
       "    <tr>\n",
       "      <th>0</th>\n",
       "      <td>0.0</td>\n",
       "      <td>newsfeedback@fool.com (Eric Volkman)</td>\n",
       "      <td>Why Microsoft Stock Lagged the Market Today</td>\n",
       "      <td>Hardly for the first time in its life, the com...</td>\n",
       "      <td>https://www.fool.com/investing/2022/11/08/why-...</td>\n",
       "      <td>https://g.foolcdn.com/editorial/images/708510/...</td>\n",
       "      <td>2022-11-08T22:56:32Z</td>\n",
       "      <td>What happened\\r\\nTechnically speaking, Microso...</td>\n",
       "      <td>None</td>\n",
       "      <td>Motley Fool</td>\n",
       "      <td>MSFT</td>\n",
       "      <td>2022-11-08</td>\n",
       "    </tr>\n",
       "    <tr>\n",
       "      <th>1</th>\n",
       "      <td>0.0</td>\n",
       "      <td>Brian Fung</td>\n",
       "      <td>EU opens deeper probe of Microsoft's Activisio...</td>\n",
       "      <td>The European Union is taking a closer look at ...</td>\n",
       "      <td>https://www.cnn.com/2022/11/08/tech/eu-probe-m...</td>\n",
       "      <td>https://media.cnn.com/api/v1/images/stellar/pr...</td>\n",
       "      <td>2022-11-08T19:19:48Z</td>\n",
       "      <td>The European Union is taking a closer look at ...</td>\n",
       "      <td>cnn</td>\n",
       "      <td>CNN</td>\n",
       "      <td>MSFT</td>\n",
       "      <td>2022-11-08</td>\n",
       "    </tr>\n",
       "    <tr>\n",
       "      <th>2</th>\n",
       "      <td>0.0</td>\n",
       "      <td>Kevin Stankiewicz</td>\n",
       "      <td>Stocks usually climb in the year after midterm...</td>\n",
       "      <td>This exercise is designed to show how much sto...</td>\n",
       "      <td>https://www.cnbc.com/2022/11/08/midterm-electi...</td>\n",
       "      <td>https://image.cnbcfm.com/api/v1/image/10708776...</td>\n",
       "      <td>2022-11-08T20:53:33Z</td>\n",
       "      <td>Strange, but true: The S &amp;amp; P 500 has been ...</td>\n",
       "      <td>None</td>\n",
       "      <td>CNBC</td>\n",
       "      <td>MSFT</td>\n",
       "      <td>2022-11-08</td>\n",
       "    </tr>\n",
       "    <tr>\n",
       "      <th>3</th>\n",
       "      <td>0.0</td>\n",
       "      <td>Caterer Goodman Partners</td>\n",
       "      <td>Don't Buy Meta Platforms Until There Is Fundam...</td>\n",
       "      <td>Meta Platforms revenue is declining primarily ...</td>\n",
       "      <td>https://seekingalpha.com/article/4554954-dont-...</td>\n",
       "      <td>https://static.seekingalpha.com/cdn/s3/uploads...</td>\n",
       "      <td>2022-11-08T21:23:25Z</td>\n",
       "      <td>5./15 WEST\\r\\nIs Meta a value buy or value tra...</td>\n",
       "      <td>None</td>\n",
       "      <td>Seeking Alpha</td>\n",
       "      <td>MSFT</td>\n",
       "      <td>2022-11-08</td>\n",
       "    </tr>\n",
       "    <tr>\n",
       "      <th>4</th>\n",
       "      <td>0.0</td>\n",
       "      <td>MarketWatch Automation</td>\n",
       "      <td>Company Close Updates: Adobe Inc. stock rises ...</td>\n",
       "      <td>Shares of Adobe Inc. inched 0.88% higher to $3...</td>\n",
       "      <td>https://www.marketwatch.com/story/adobe-inc-st...</td>\n",
       "      <td>https://images.mktw.net/im-220105/social</td>\n",
       "      <td>2022-11-08T21:33:00Z</td>\n",
       "      <td>Shares of Adobe Inc. \\r\\n ADBE,\\r\\n +0.88%\\r\\n...</td>\n",
       "      <td>None</td>\n",
       "      <td>MarketWatch</td>\n",
       "      <td>MSFT</td>\n",
       "      <td>2022-11-08</td>\n",
       "    </tr>\n",
       "  </tbody>\n",
       "</table>\n",
       "</div>"
      ],
      "text/plain": [
       "   top                                author  \\\n",
       "0  0.0  newsfeedback@fool.com (Eric Volkman)   \n",
       "1  0.0                            Brian Fung   \n",
       "2  0.0                     Kevin Stankiewicz   \n",
       "3  0.0              Caterer Goodman Partners   \n",
       "4  0.0                MarketWatch Automation   \n",
       "\n",
       "                                               title  \\\n",
       "0        Why Microsoft Stock Lagged the Market Today   \n",
       "1  EU opens deeper probe of Microsoft's Activisio...   \n",
       "2  Stocks usually climb in the year after midterm...   \n",
       "3  Don't Buy Meta Platforms Until There Is Fundam...   \n",
       "4  Company Close Updates: Adobe Inc. stock rises ...   \n",
       "\n",
       "                                         description  \\\n",
       "0  Hardly for the first time in its life, the com...   \n",
       "1  The European Union is taking a closer look at ...   \n",
       "2  This exercise is designed to show how much sto...   \n",
       "3  Meta Platforms revenue is declining primarily ...   \n",
       "4  Shares of Adobe Inc. inched 0.88% higher to $3...   \n",
       "\n",
       "                                                 url  \\\n",
       "0  https://www.fool.com/investing/2022/11/08/why-...   \n",
       "1  https://www.cnn.com/2022/11/08/tech/eu-probe-m...   \n",
       "2  https://www.cnbc.com/2022/11/08/midterm-electi...   \n",
       "3  https://seekingalpha.com/article/4554954-dont-...   \n",
       "4  https://www.marketwatch.com/story/adobe-inc-st...   \n",
       "\n",
       "                                          urlToImage           publishedAt  \\\n",
       "0  https://g.foolcdn.com/editorial/images/708510/...  2022-11-08T22:56:32Z   \n",
       "1  https://media.cnn.com/api/v1/images/stellar/pr...  2022-11-08T19:19:48Z   \n",
       "2  https://image.cnbcfm.com/api/v1/image/10708776...  2022-11-08T20:53:33Z   \n",
       "3  https://static.seekingalpha.com/cdn/s3/uploads...  2022-11-08T21:23:25Z   \n",
       "4           https://images.mktw.net/im-220105/social  2022-11-08T21:33:00Z   \n",
       "\n",
       "                                             content source.id    source.name  \\\n",
       "0  What happened\\r\\nTechnically speaking, Microso...      None    Motley Fool   \n",
       "1  The European Union is taking a closer look at ...       cnn            CNN   \n",
       "2  Strange, but true: The S &amp; P 500 has been ...      None           CNBC   \n",
       "3  5./15 WEST\\r\\nIs Meta a value buy or value tra...      None  Seeking Alpha   \n",
       "4  Shares of Adobe Inc. \\r\\n ADBE,\\r\\n +0.88%\\r\\n...      None    MarketWatch   \n",
       "\n",
       "  ticker        date  \n",
       "0   MSFT  2022-11-08  \n",
       "1   MSFT  2022-11-08  \n",
       "2   MSFT  2022-11-08  \n",
       "3   MSFT  2022-11-08  \n",
       "4   MSFT  2022-11-08  "
      ]
     },
     "execution_count": 87,
     "metadata": {},
     "output_type": "execute_result"
    }
   ],
   "source": [
    "import regex as re\n",
    "\n",
    "df['date'] = df['publishedAt'].apply(lambda x: re.search(r'([0-9]+)-([0-9]+)-([0-9]+)', x).group())\n",
    "df.head()"
   ]
  },
  {
   "cell_type": "code",
   "execution_count": 160,
   "metadata": {},
   "outputs": [],
   "source": [
    "def clean_text(text): \n",
    "    cleantext = text\n",
    "\n",
    "    cleantext = cleantext.lower()\n",
    "    \n",
    "    #removes digits\n",
    "    #cleantext = re.sub('\\d+', '', cleantext)\n",
    "\n",
    "    #Remove Punctuations\n",
    "    #cleantext = re.sub('[^\\w\\s]', '', cleantext) \n",
    "\n",
    "\n",
    "    # Remove line break \\n, \\r, etc\n",
    "    cleantext = re.sub('\\\\r\\\\n',' ', cleantext)\n",
    "\n",
    "    return cleantext"
   ]
  },
  {
   "cell_type": "code",
   "execution_count": 165,
   "metadata": {},
   "outputs": [],
   "source": [
    "df['pre_processed_text'] = df['content'].apply(lambda x: clean_text(x))"
   ]
  },
  {
   "cell_type": "code",
   "execution_count": 162,
   "metadata": {},
   "outputs": [
    {
     "data": {
      "text/plain": [
       "'What happened\\r\\nTechnically speaking, Microsoft(MSFT 0.44%) had a positive Tuesday on the stock exchange. However, its share price only crawled 0.4% higher, lagging the nearly 0.6% rise of the S&amp;P… [+1739 chars]'"
      ]
     },
     "execution_count": 162,
     "metadata": {},
     "output_type": "execute_result"
    }
   ],
   "source": [
    "test = df['content'].values[0]\n",
    "test"
   ]
  },
  {
   "cell_type": "code",
   "execution_count": 164,
   "metadata": {},
   "outputs": [
    {
     "name": "stdout",
     "output_type": "stream",
     "text": [
      "What happened\n",
      "Technically speaking, Microsoft(MSFT 0.44%) had a positive Tuesday on the stock exchange. However, its share price only crawled 0.4% higher, lagging the nearly 0.6% rise of the S&amp;P… [+1739 chars]\n"
     ]
    }
   ],
   "source": [
    "print(test)"
   ]
  },
  {
   "cell_type": "code",
   "execution_count": 166,
   "metadata": {},
   "outputs": [],
   "source": [
    "output_df = df[['top', 'ticker', 'author', 'title', 'description', 'source.name', 'date', 'content']].copy()"
   ]
  },
  {
   "cell_type": "code",
   "execution_count": 167,
   "metadata": {},
   "outputs": [
    {
     "data": {
      "text/html": [
       "<div>\n",
       "<style scoped>\n",
       "    .dataframe tbody tr th:only-of-type {\n",
       "        vertical-align: middle;\n",
       "    }\n",
       "\n",
       "    .dataframe tbody tr th {\n",
       "        vertical-align: top;\n",
       "    }\n",
       "\n",
       "    .dataframe thead th {\n",
       "        text-align: right;\n",
       "    }\n",
       "</style>\n",
       "<table border=\"1\" class=\"dataframe\">\n",
       "  <thead>\n",
       "    <tr style=\"text-align: right;\">\n",
       "      <th></th>\n",
       "      <th>top</th>\n",
       "      <th>ticker</th>\n",
       "      <th>author</th>\n",
       "      <th>title</th>\n",
       "      <th>description</th>\n",
       "      <th>source.name</th>\n",
       "      <th>date</th>\n",
       "      <th>content</th>\n",
       "    </tr>\n",
       "  </thead>\n",
       "  <tbody>\n",
       "    <tr>\n",
       "      <th>0</th>\n",
       "      <td>0.0</td>\n",
       "      <td>MSFT</td>\n",
       "      <td>newsfeedback@fool.com (Eric Volkman)</td>\n",
       "      <td>Why Microsoft Stock Lagged the Market Today</td>\n",
       "      <td>Hardly for the first time in its life, the com...</td>\n",
       "      <td>Motley Fool</td>\n",
       "      <td>2022-11-08</td>\n",
       "      <td>What happened\\r\\nTechnically speaking, Microso...</td>\n",
       "    </tr>\n",
       "    <tr>\n",
       "      <th>1</th>\n",
       "      <td>0.0</td>\n",
       "      <td>MSFT</td>\n",
       "      <td>Brian Fung</td>\n",
       "      <td>EU opens deeper probe of Microsoft's Activisio...</td>\n",
       "      <td>The European Union is taking a closer look at ...</td>\n",
       "      <td>CNN</td>\n",
       "      <td>2022-11-08</td>\n",
       "      <td>The European Union is taking a closer look at ...</td>\n",
       "    </tr>\n",
       "    <tr>\n",
       "      <th>2</th>\n",
       "      <td>0.0</td>\n",
       "      <td>MSFT</td>\n",
       "      <td>Kevin Stankiewicz</td>\n",
       "      <td>Stocks usually climb in the year after midterm...</td>\n",
       "      <td>This exercise is designed to show how much sto...</td>\n",
       "      <td>CNBC</td>\n",
       "      <td>2022-11-08</td>\n",
       "      <td>Strange, but true: The S &amp;amp; P 500 has been ...</td>\n",
       "    </tr>\n",
       "    <tr>\n",
       "      <th>3</th>\n",
       "      <td>0.0</td>\n",
       "      <td>MSFT</td>\n",
       "      <td>Caterer Goodman Partners</td>\n",
       "      <td>Don't Buy Meta Platforms Until There Is Fundam...</td>\n",
       "      <td>Meta Platforms revenue is declining primarily ...</td>\n",
       "      <td>Seeking Alpha</td>\n",
       "      <td>2022-11-08</td>\n",
       "      <td>5./15 WEST\\r\\nIs Meta a value buy or value tra...</td>\n",
       "    </tr>\n",
       "    <tr>\n",
       "      <th>4</th>\n",
       "      <td>0.0</td>\n",
       "      <td>MSFT</td>\n",
       "      <td>MarketWatch Automation</td>\n",
       "      <td>Company Close Updates: Adobe Inc. stock rises ...</td>\n",
       "      <td>Shares of Adobe Inc. inched 0.88% higher to $3...</td>\n",
       "      <td>MarketWatch</td>\n",
       "      <td>2022-11-08</td>\n",
       "      <td>Shares of Adobe Inc. \\r\\n ADBE,\\r\\n +0.88%\\r\\n...</td>\n",
       "    </tr>\n",
       "    <tr>\n",
       "      <th>...</th>\n",
       "      <td>...</td>\n",
       "      <td>...</td>\n",
       "      <td>...</td>\n",
       "      <td>...</td>\n",
       "      <td>...</td>\n",
       "      <td>...</td>\n",
       "      <td>...</td>\n",
       "      <td>...</td>\n",
       "    </tr>\n",
       "    <tr>\n",
       "      <th>6</th>\n",
       "      <td>0.0</td>\n",
       "      <td>AAPL</td>\n",
       "      <td>MarketWatch Automation</td>\n",
       "      <td>Company Close Updates: Xerox Holdings Corp. st...</td>\n",
       "      <td>Shares of Xerox Holdings Corp. slipped 1.09% t...</td>\n",
       "      <td>MarketWatch</td>\n",
       "      <td>2022-11-08</td>\n",
       "      <td>Shares of Xerox Holdings Corp. \\r\\n XRX,\\r\\n -...</td>\n",
       "    </tr>\n",
       "    <tr>\n",
       "      <th>7</th>\n",
       "      <td>0.0</td>\n",
       "      <td>AAPL</td>\n",
       "      <td>Therese Poletti</td>\n",
       "      <td>As Netflix and Disney move into ads, will Roku...</td>\n",
       "      <td>The streaming company's disappointing fourth-q...</td>\n",
       "      <td>MarketWatch</td>\n",
       "      <td>2022-11-08</td>\n",
       "      <td>The streaming companys disappointing holiday f...</td>\n",
       "    </tr>\n",
       "    <tr>\n",
       "      <th>8</th>\n",
       "      <td>0.0</td>\n",
       "      <td>AAPL</td>\n",
       "      <td>Rachel Koning Beals</td>\n",
       "      <td>: Apple, Pepsi and more big stock names are ne...</td>\n",
       "      <td>Pepsi, Apple and Rio Tinto are among the newes...</td>\n",
       "      <td>MarketWatch</td>\n",
       "      <td>2022-11-08</td>\n",
       "      <td>PepsiCo Inc., Apple Inc. and Rio Tinto PLC can...</td>\n",
       "    </tr>\n",
       "    <tr>\n",
       "      <th>9</th>\n",
       "      <td>0.0</td>\n",
       "      <td>AAPL</td>\n",
       "      <td>Michael Brush</td>\n",
       "      <td>Quality and high dividends set these five semi...</td>\n",
       "      <td>The industry is in a down cycle, making select...</td>\n",
       "      <td>MarketWatch</td>\n",
       "      <td>2022-11-08</td>\n",
       "      <td>Its been a tough year in the stock market, but...</td>\n",
       "    </tr>\n",
       "    <tr>\n",
       "      <th>10</th>\n",
       "      <td>0.0</td>\n",
       "      <td>AAPL</td>\n",
       "      <td>Caterer Goodman Partners</td>\n",
       "      <td>Don't Buy Meta Platforms Until There Is Fundam...</td>\n",
       "      <td>Meta Platforms revenue is declining primarily ...</td>\n",
       "      <td>Seeking Alpha</td>\n",
       "      <td>2022-11-08</td>\n",
       "      <td>5./15 WEST\\r\\nIs Meta a value buy or value tra...</td>\n",
       "    </tr>\n",
       "  </tbody>\n",
       "</table>\n",
       "<p>237 rows × 8 columns</p>\n",
       "</div>"
      ],
      "text/plain": [
       "    top ticker                                author  \\\n",
       "0   0.0   MSFT  newsfeedback@fool.com (Eric Volkman)   \n",
       "1   0.0   MSFT                            Brian Fung   \n",
       "2   0.0   MSFT                     Kevin Stankiewicz   \n",
       "3   0.0   MSFT              Caterer Goodman Partners   \n",
       "4   0.0   MSFT                MarketWatch Automation   \n",
       "..  ...    ...                                   ...   \n",
       "6   0.0   AAPL                MarketWatch Automation   \n",
       "7   0.0   AAPL                       Therese Poletti   \n",
       "8   0.0   AAPL                   Rachel Koning Beals   \n",
       "9   0.0   AAPL                         Michael Brush   \n",
       "10  0.0   AAPL              Caterer Goodman Partners   \n",
       "\n",
       "                                                title  \\\n",
       "0         Why Microsoft Stock Lagged the Market Today   \n",
       "1   EU opens deeper probe of Microsoft's Activisio...   \n",
       "2   Stocks usually climb in the year after midterm...   \n",
       "3   Don't Buy Meta Platforms Until There Is Fundam...   \n",
       "4   Company Close Updates: Adobe Inc. stock rises ...   \n",
       "..                                                ...   \n",
       "6   Company Close Updates: Xerox Holdings Corp. st...   \n",
       "7   As Netflix and Disney move into ads, will Roku...   \n",
       "8   : Apple, Pepsi and more big stock names are ne...   \n",
       "9   Quality and high dividends set these five semi...   \n",
       "10  Don't Buy Meta Platforms Until There Is Fundam...   \n",
       "\n",
       "                                          description    source.name  \\\n",
       "0   Hardly for the first time in its life, the com...    Motley Fool   \n",
       "1   The European Union is taking a closer look at ...            CNN   \n",
       "2   This exercise is designed to show how much sto...           CNBC   \n",
       "3   Meta Platforms revenue is declining primarily ...  Seeking Alpha   \n",
       "4   Shares of Adobe Inc. inched 0.88% higher to $3...    MarketWatch   \n",
       "..                                                ...            ...   \n",
       "6   Shares of Xerox Holdings Corp. slipped 1.09% t...    MarketWatch   \n",
       "7   The streaming company's disappointing fourth-q...    MarketWatch   \n",
       "8   Pepsi, Apple and Rio Tinto are among the newes...    MarketWatch   \n",
       "9   The industry is in a down cycle, making select...    MarketWatch   \n",
       "10  Meta Platforms revenue is declining primarily ...  Seeking Alpha   \n",
       "\n",
       "          date                                            content  \n",
       "0   2022-11-08  What happened\\r\\nTechnically speaking, Microso...  \n",
       "1   2022-11-08  The European Union is taking a closer look at ...  \n",
       "2   2022-11-08  Strange, but true: The S &amp; P 500 has been ...  \n",
       "3   2022-11-08  5./15 WEST\\r\\nIs Meta a value buy or value tra...  \n",
       "4   2022-11-08  Shares of Adobe Inc. \\r\\n ADBE,\\r\\n +0.88%\\r\\n...  \n",
       "..         ...                                                ...  \n",
       "6   2022-11-08  Shares of Xerox Holdings Corp. \\r\\n XRX,\\r\\n -...  \n",
       "7   2022-11-08  The streaming companys disappointing holiday f...  \n",
       "8   2022-11-08  PepsiCo Inc., Apple Inc. and Rio Tinto PLC can...  \n",
       "9   2022-11-08  Its been a tough year in the stock market, but...  \n",
       "10  2022-11-08  5./15 WEST\\r\\nIs Meta a value buy or value tra...  \n",
       "\n",
       "[237 rows x 8 columns]"
      ]
     },
     "execution_count": 167,
     "metadata": {},
     "output_type": "execute_result"
    }
   ],
   "source": [
    "output_df.copy()"
   ]
  },
  {
   "cell_type": "code",
   "execution_count": 169,
   "metadata": {},
   "outputs": [],
   "source": [
    "output_df.to_csv(r\"C:\\Users\\Dennis\\Desktop\\newsoutput.csv\")"
   ]
  },
  {
   "cell_type": "code",
   "execution_count": null,
   "metadata": {},
   "outputs": [],
   "source": []
  }
 ],
 "metadata": {
  "kernelspec": {
   "display_name": "Python 3.8.3 64-bit",
   "language": "python",
   "name": "python3"
  },
  "language_info": {
   "codemirror_mode": {
    "name": "ipython",
    "version": 3
   },
   "file_extension": ".py",
   "mimetype": "text/x-python",
   "name": "python",
   "nbconvert_exporter": "python",
   "pygments_lexer": "ipython3",
   "version": "3.8.3"
  },
  "orig_nbformat": 4,
  "vscode": {
   "interpreter": {
    "hash": "f6137767cd5a1185f0adfe5ac38846a9103bfc8540bec40d423695759fa94714"
   }
  }
 },
 "nbformat": 4,
 "nbformat_minor": 2
}
