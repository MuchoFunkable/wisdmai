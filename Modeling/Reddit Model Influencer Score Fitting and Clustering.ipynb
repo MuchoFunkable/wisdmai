{
 "cells": [
  {
   "cell_type": "markdown",
   "metadata": {},
   "source": [
    "# Reddit Data Influencer Score Fitting \n",
    "- fit fake sentiment \n",
    "- cluster senitment \n",
    "- fit influencer score"
   ]
  },
  {
   "cell_type": "code",
   "execution_count": 171,
   "metadata": {},
   "outputs": [],
   "source": [
    "import numpy as np\n",
    "from sklearn.preprocessing import StandardScaler\n",
    "from sklearn.preprocessing import normalize\n",
    "from vaderSentiment.vaderSentiment import SentimentIntensityAnalyzer\n",
    "from sklearn.manifold import TSNE\n",
    "\n",
    "from sklearn.cluster import KMeans\n",
    "\n",
    "%matplotlib inline\n",
    "import matplotlib.pyplot as plt\n",
    "import seaborn as sns; sns.set()  # for plot styling "
   ]
  },
  {
   "cell_type": "markdown",
   "metadata": {},
   "source": [
    "# Fitting Fake Sentiment "
   ]
  },
  {
   "cell_type": "code",
   "execution_count": 9,
   "metadata": {},
   "outputs": [
    {
     "name": "stderr",
     "output_type": "stream",
     "text": [
      "Version 7.6.0 of praw is outdated. Version 7.6.1 was released 2 days ago.\n"
     ]
    },
    {
     "name": "stdout",
     "output_type": "stream",
     "text": [
      "Dramatic-Ad-9651\n",
      "wallstreetbets  -  CPRX\n",
      "stocks  -  CPRX\n",
      "investing  -  CPRX\n",
      "finance  -  CPRX\n",
      "wallstreetbets  -  NFLX\n",
      "stocks  -  NFLX\n",
      "investing  -  NFLX\n",
      "finance  -  NFLX\n",
      "wallstreetbets  -  SPY\n",
      "stocks  -  SPY\n",
      "investing  -  SPY\n",
      "finance  -  SPY\n",
      "wallstreetbets  -  SNAP\n",
      "stocks  -  SNAP\n",
      "investing  -  SNAP\n",
      "finance  -  SNAP\n",
      "wallstreetbets  -  VIX\n",
      "stocks  -  VIX\n",
      "investing  -  VIX\n",
      "finance  -  VIX\n",
      "wallstreetbets  -  GME\n",
      "stocks  -  GME\n",
      "investing  -  GME\n",
      "finance  -  GME\n",
      "wallstreetbets  -  PYPL\n",
      "stocks  -  PYPL\n",
      "investing  -  PYPL\n",
      "finance  -  PYPL\n",
      "wallstreetbets  -  TWTR\n",
      "stocks  -  TWTR\n",
      "investing  -  TWTR\n",
      "finance  -  TWTR\n",
      "wallstreetbets  -  WISH\n",
      "stocks  -  WISH\n",
      "investing  -  WISH\n",
      "finance  -  WISH\n",
      "wallstreetbets  -  AMZN\n",
      "stocks  -  AMZN\n",
      "investing  -  AMZN\n",
      "finance  -  AMZN\n",
      "wallstreetbets  -  FSR\n",
      "stocks  -  FSR\n",
      "investing  -  FSR\n",
      "finance  -  FSR\n",
      "wallstreetbets  -  TSLA\n",
      "stocks  -  TSLA\n",
      "investing  -  TSLA\n",
      "finance  -  TSLA\n",
      "wallstreetbets  -  NIO\n",
      "stocks  -  NIO\n",
      "investing  -  NIO\n",
      "finance  -  NIO\n",
      "wallstreetbets  -  QQQ\n",
      "stocks  -  QQQ\n",
      "investing  -  QQQ\n",
      "finance  -  QQQ\n",
      "wallstreetbets  -  F\n",
      "stocks  -  F\n",
      "investing  -  F\n",
      "finance  -  F\n",
      "wallstreetbets  -  NVDA\n",
      "stocks  -  NVDA\n",
      "investing  -  NVDA\n",
      "finance  -  NVDA\n",
      "wallstreetbets  -  INTC\n",
      "stocks  -  INTC\n",
      "investing  -  INTC\n",
      "finance  -  INTC\n",
      "wallstreetbets  -  WMT\n",
      "stocks  -  WMT\n",
      "investing  -  WMT\n",
      "finance  -  WMT\n",
      "wallstreetbets  -  BBBY\n",
      "stocks  -  BBBY\n",
      "investing  -  BBBY\n",
      "finance  -  BBBY\n",
      "wallstreetbets  -  PTON\n",
      "stocks  -  PTON\n",
      "investing  -  PTON\n",
      "finance  -  PTON\n",
      "wallstreetbets  -  AMD\n",
      "stocks  -  AMD\n",
      "investing  -  AMD\n",
      "finance  -  AMD\n",
      "wallstreetbets  -  MSFT\n",
      "stocks  -  MSFT\n",
      "investing  -  MSFT\n",
      "finance  -  MSFT\n",
      "wallstreetbets  -  HOOD\n",
      "stocks  -  HOOD\n",
      "investing  -  HOOD\n",
      "finance  -  HOOD\n",
      "wallstreetbets  -  TLRY\n",
      "stocks  -  TLRY\n",
      "investing  -  TLRY\n",
      "finance  -  TLRY\n",
      "wallstreetbets  -  AAPL\n",
      "stocks  -  AAPL\n",
      "investing  -  AAPL\n",
      "finance  -  AAPL\n",
      "wallstreetbets  -  AMC\n",
      "stocks  -  AMC\n",
      "investing  -  AMC\n",
      "finance  -  AMC\n",
      "wallstreetbets  -  SNDL\n",
      "stocks  -  SNDL\n",
      "investing  -  SNDL\n",
      "finance  -  SNDL\n",
      "wallstreetbets  -  FB\n",
      "stocks  -  FB\n",
      "investing  -  FB\n",
      "finance  -  FB\n",
      "wallstreetbets  -  LCID\n",
      "stocks  -  LCID\n",
      "investing  -  LCID\n",
      "finance  -  LCID\n",
      "wallstreetbets  -  DIS\n",
      "stocks  -  DIS\n",
      "investing  -  DIS\n",
      "finance  -  DIS\n",
      "Data Exported\n",
      "Posts 8\n",
      "Comments: 378\n"
     ]
    }
   ],
   "source": [
    "# Reddit Script \n",
    "#### imports ####\n",
    "\n",
    "import praw\n",
    "import pandas as pd\n",
    "from datetime import datetime\n",
    "from praw.models import MoreComments\n",
    "import preprocessor as pre\n",
    "import regex as re\n",
    "\n",
    "\n",
    "reddit = praw.Reddit(\n",
    "    client_id=\"auD_kIwyQ1r3hfxTQEYuGw\",\n",
    "    client_secret=\"XyLGeMB1mJqoaB0lCXrk4Jtmy515AA\",\n",
    "    password=\"wisdmai1234\",\n",
    "    user_agent=\"wisdm\",\n",
    "    username=\"Dramatic-Ad-9651\",\n",
    "    check_for_async=False\n",
    ")\n",
    "\n",
    "# make sure we're connected to the api\n",
    "print(reddit.user.me())\n",
    "\n",
    "\n",
    "#### Data Extraction #### \n",
    "\n",
    "posts = pd.DataFrame()\n",
    "comments = pd.DataFrame()\n",
    "\n",
    "tickers = tickers = list(set(['SPY','TSLA','PYPL', 'GME', 'VIX', 'AMD', 'F',\n",
    "                              'BBBY', 'NFLX', 'NVDA', 'AAPL', 'INTC', 'FSR', \n",
    "                              'QQQ', 'TLRY', 'MSFT', 'TWTR', 'SNAP', 'HOOD', \n",
    "                              'WMT', 'PTON', 'WISH', 'CPRX', 'AMC', 'SNDL', \n",
    "                              'AMZN', 'DIS', 'NIO', 'FB', 'NFLX', 'LCID', 'NVDA']))\n",
    "\n",
    "\n",
    "subreddits = ['wallstreetbets', 'stocks',  'investing', 'finance']\n",
    "\n",
    "\n",
    "for ticker in tickers: \n",
    "    for sub in subreddits: \n",
    "        subreddit = reddit.subreddit(sub)\n",
    "        print(subreddit, ' - ', ticker)\n",
    "        for post in subreddit.search(ticker.lower(), sort = 'new', time_filter = 'day', limit = None):\n",
    "            #check if title has stock ticker \n",
    "            if ticker.lower() not in post.title.lower(): \n",
    "                #print(post.title)\n",
    "                continue \n",
    "            #check if author is not banned \n",
    "            if hasattr(post.author, 'is_suspended'):\n",
    "                #print(post.author.is_suspended)\n",
    "                continue\n",
    "            try: \n",
    "                #collect desired values \n",
    "                title_instance = {\n",
    "                    'ticker': ticker, \n",
    "                    'subreddit': str(post.subreddit),\n",
    "                    'content': post.title, \n",
    "                    'upvotes': post.score, \n",
    "                    'upvote_ratio': post.upvote_ratio,\n",
    "                    'num_comments': post.num_comments, \n",
    "                    #might break in author deletes their post \n",
    "                    'author_comment_karma': post.author.comment_karma, \n",
    "                    'author_verified': post.author.has_verified_email, \n",
    "                    'time': datetime.fromtimestamp(post.created_utc).strftime('%Y-%m-%d'),\n",
    "                }\n",
    "            \n",
    "            except: \n",
    "                continue \n",
    "\n",
    "            #create row and concat it to the df\n",
    "            row = pd.DataFrame([title_instance])\n",
    "            posts = pd.concat([posts, row], axis = 0, ignore_index = True)\n",
    "\n",
    "            #checking comments\n",
    "            for comment in post.comments:\n",
    "                #do not want sub comments of comments \n",
    "                if isinstance(comment, MoreComments):\n",
    "                    continue\n",
    "                #remove user reports\n",
    "                if 'user report' in comment.body.lower(): \n",
    "                    continue\n",
    "                \n",
    "                try: \n",
    "                    comment_instance = {\n",
    "                        'ticker': ticker, \n",
    "                        'subreddit': str(post.subreddit), \n",
    "                        # optional can remove if no grouping by title is needed \n",
    "                        'post_title': post.title,\n",
    "                        'content': comment.body, \n",
    "                        'upvotes': comment.score, \n",
    "                        'replies': comment.replies.__len__(), \n",
    "                        'sticked': comment.stickied,\n",
    "                        #might break deleted comments\n",
    "                        'author_comment_karma': comment.author.comment_karma, \n",
    "                        'author_verified': comment.author.has_verified_email, \n",
    "                        'time': datetime.fromtimestamp(comment.created_utc).strftime('%Y-%m-%d'),\n",
    "                    }\n",
    "                except:\n",
    "                    continue\n",
    "\n",
    "                row = pd.DataFrame([comment_instance])\n",
    "                comments = pd.concat([comments, row], axis = 0, ignore_index = True)\n",
    "\n",
    "\n",
    "#### Data Export #### \n",
    "\n",
    "\n",
    "comments_df = comments.copy()\n",
    "posts_df = posts.copy()\n",
    "\n",
    "\n",
    "\n",
    "\n",
    "#comments_export_path = r\"C:\\Users\\Dennis\\Desktop\\comments.csv\"\n",
    "#comments_df.to_csv(comments_export_path)\n",
    "\n",
    "#posts_export_path = r\"C:\\Users\\Dennis\\Desktop\\posts.csv\"\n",
    "#posts_df.to_csv(posts_export_path)\n",
    "\n",
    "print('Data Exported')\n",
    "print(\"Posts\", len(posts_df))\n",
    "print(\"Comments:\", len(comments_df))"
   ]
  },
  {
   "cell_type": "code",
   "execution_count": 10,
   "metadata": {},
   "outputs": [
    {
     "data": {
      "text/plain": [
       "(378, 10)"
      ]
     },
     "execution_count": 10,
     "metadata": {},
     "output_type": "execute_result"
    }
   ],
   "source": [
    "comments_df.shape"
   ]
  },
  {
   "cell_type": "code",
   "execution_count": 11,
   "metadata": {},
   "outputs": [
    {
     "data": {
      "text/html": [
       "<div>\n",
       "<style scoped>\n",
       "    .dataframe tbody tr th:only-of-type {\n",
       "        vertical-align: middle;\n",
       "    }\n",
       "\n",
       "    .dataframe tbody tr th {\n",
       "        vertical-align: top;\n",
       "    }\n",
       "\n",
       "    .dataframe thead th {\n",
       "        text-align: right;\n",
       "    }\n",
       "</style>\n",
       "<table border=\"1\" class=\"dataframe\">\n",
       "  <thead>\n",
       "    <tr style=\"text-align: right;\">\n",
       "      <th></th>\n",
       "      <th>ticker</th>\n",
       "      <th>subreddit</th>\n",
       "      <th>post_title</th>\n",
       "      <th>content</th>\n",
       "      <th>upvotes</th>\n",
       "      <th>replies</th>\n",
       "      <th>sticked</th>\n",
       "      <th>author_comment_karma</th>\n",
       "      <th>author_verified</th>\n",
       "      <th>time</th>\n",
       "    </tr>\n",
       "  </thead>\n",
       "  <tbody>\n",
       "    <tr>\n",
       "      <th>0</th>\n",
       "      <td>SPY</td>\n",
       "      <td>wallstreetbets</td>\n",
       "      <td>CBOE to add Spy and QQQ options on Tuesday and...</td>\n",
       "      <td>No fucking way!!! Omfg, the algos will be hedg...</td>\n",
       "      <td>47</td>\n",
       "      <td>2</td>\n",
       "      <td>False</td>\n",
       "      <td>29668</td>\n",
       "      <td>True</td>\n",
       "      <td>2022-11-13</td>\n",
       "    </tr>\n",
       "    <tr>\n",
       "      <th>1</th>\n",
       "      <td>SPY</td>\n",
       "      <td>wallstreetbets</td>\n",
       "      <td>CBOE to add Spy and QQQ options on Tuesday and...</td>\n",
       "      <td>Calls on gain porn. And loss porn.</td>\n",
       "      <td>28</td>\n",
       "      <td>0</td>\n",
       "      <td>False</td>\n",
       "      <td>558</td>\n",
       "      <td>False</td>\n",
       "      <td>2022-11-13</td>\n",
       "    </tr>\n",
       "    <tr>\n",
       "      <th>2</th>\n",
       "      <td>SPY</td>\n",
       "      <td>wallstreetbets</td>\n",
       "      <td>CBOE to add Spy and QQQ options on Tuesday and...</td>\n",
       "      <td>Now I can sell SPY/QQQ spreads to regards ever...</td>\n",
       "      <td>22</td>\n",
       "      <td>0</td>\n",
       "      <td>False</td>\n",
       "      <td>4087</td>\n",
       "      <td>True</td>\n",
       "      <td>2022-11-13</td>\n",
       "    </tr>\n",
       "    <tr>\n",
       "      <th>3</th>\n",
       "      <td>SPY</td>\n",
       "      <td>wallstreetbets</td>\n",
       "      <td>CBOE to add Spy and QQQ options on Tuesday and...</td>\n",
       "      <td>I keep looking for the blue checkmark to see i...</td>\n",
       "      <td>21</td>\n",
       "      <td>0</td>\n",
       "      <td>False</td>\n",
       "      <td>1940</td>\n",
       "      <td>True</td>\n",
       "      <td>2022-11-13</td>\n",
       "    </tr>\n",
       "    <tr>\n",
       "      <th>4</th>\n",
       "      <td>SPY</td>\n",
       "      <td>wallstreetbets</td>\n",
       "      <td>CBOE to add Spy and QQQ options on Tuesday and...</td>\n",
       "      <td>Let the real casino begin.</td>\n",
       "      <td>16</td>\n",
       "      <td>1</td>\n",
       "      <td>False</td>\n",
       "      <td>1322</td>\n",
       "      <td>True</td>\n",
       "      <td>2022-11-13</td>\n",
       "    </tr>\n",
       "  </tbody>\n",
       "</table>\n",
       "</div>"
      ],
      "text/plain": [
       "  ticker       subreddit                                         post_title  \\\n",
       "0    SPY  wallstreetbets  CBOE to add Spy and QQQ options on Tuesday and...   \n",
       "1    SPY  wallstreetbets  CBOE to add Spy and QQQ options on Tuesday and...   \n",
       "2    SPY  wallstreetbets  CBOE to add Spy and QQQ options on Tuesday and...   \n",
       "3    SPY  wallstreetbets  CBOE to add Spy and QQQ options on Tuesday and...   \n",
       "4    SPY  wallstreetbets  CBOE to add Spy and QQQ options on Tuesday and...   \n",
       "\n",
       "                                             content  upvotes  replies  \\\n",
       "0  No fucking way!!! Omfg, the algos will be hedg...       47        2   \n",
       "1                 Calls on gain porn. And loss porn.       28        0   \n",
       "2  Now I can sell SPY/QQQ spreads to regards ever...       22        0   \n",
       "3  I keep looking for the blue checkmark to see i...       21        0   \n",
       "4                         Let the real casino begin.       16        1   \n",
       "\n",
       "   sticked  author_comment_karma  author_verified        time  \n",
       "0    False                 29668             True  2022-11-13  \n",
       "1    False                   558            False  2022-11-13  \n",
       "2    False                  4087             True  2022-11-13  \n",
       "3    False                  1940             True  2022-11-13  \n",
       "4    False                  1322             True  2022-11-13  "
      ]
     },
     "execution_count": 11,
     "metadata": {},
     "output_type": "execute_result"
    }
   ],
   "source": [
    "comments.head()"
   ]
  },
  {
   "cell_type": "code",
   "execution_count": 12,
   "metadata": {},
   "outputs": [],
   "source": [
    "sentiments = ['neutral', 'negative', 'positive']\n"
   ]
  },
  {
   "cell_type": "code",
   "execution_count": 13,
   "metadata": {},
   "outputs": [],
   "source": [
    "analyser = SentimentIntensityAnalyzer()"
   ]
  },
  {
   "cell_type": "code",
   "execution_count": 14,
   "metadata": {},
   "outputs": [
    {
     "data": {
      "text/plain": [
       "'No fucking way!!! Omfg, the algos will be hedging insane ups and downs on 0dte with 1dte....\\n\\nThis is so criminal, guess we are gonna see some big balls volatility coming up'"
      ]
     },
     "execution_count": 14,
     "metadata": {},
     "output_type": "execute_result"
    }
   ],
   "source": [
    "text = comments['content'].values[0]\n",
    "text"
   ]
  },
  {
   "cell_type": "code",
   "execution_count": 15,
   "metadata": {},
   "outputs": [
    {
     "data": {
      "text/plain": [
       "str"
      ]
     },
     "execution_count": 15,
     "metadata": {},
     "output_type": "execute_result"
    }
   ],
   "source": [
    "type(text)"
   ]
  },
  {
   "cell_type": "code",
   "execution_count": 16,
   "metadata": {},
   "outputs": [
    {
     "data": {
      "text/plain": [
       "{'neg': 0.259, 'neu': 0.741, 'pos': 0.0, 'compound': -0.8791}"
      ]
     },
     "execution_count": 16,
     "metadata": {},
     "output_type": "execute_result"
    }
   ],
   "source": [
    "results = analyser.polarity_scores(text)\n",
    "results"
   ]
  },
  {
   "cell_type": "code",
   "execution_count": 17,
   "metadata": {},
   "outputs": [
    {
     "data": {
      "text/plain": [
       "{'neg': 0.259, 'neu': 0.741, 'pos': 0.0}"
      ]
     },
     "execution_count": 17,
     "metadata": {},
     "output_type": "execute_result"
    }
   ],
   "source": [
    "del results['compound'] \n",
    "results"
   ]
  },
  {
   "cell_type": "code",
   "execution_count": 18,
   "metadata": {},
   "outputs": [
    {
     "data": {
      "text/plain": [
       "'neu'"
      ]
     },
     "execution_count": 18,
     "metadata": {},
     "output_type": "execute_result"
    }
   ],
   "source": [
    "max(results, key = results.get)"
   ]
  },
  {
   "cell_type": "code",
   "execution_count": 19,
   "metadata": {},
   "outputs": [
    {
     "data": {
      "text/plain": [
       "0.741"
      ]
     },
     "execution_count": 19,
     "metadata": {},
     "output_type": "execute_result"
    }
   ],
   "source": [
    "results[max(results, key = results.get)]"
   ]
  },
  {
   "cell_type": "code",
   "execution_count": 20,
   "metadata": {},
   "outputs": [],
   "source": [
    "def add_sentiment(df): \n",
    "    content = df['content'].copy().values \n",
    "    sentiments, scores = [], []\n",
    "    for text in content:\n",
    "        results = analyser.polarity_scores(text)\n",
    "        del results['compound'] \n",
    "\n",
    "        sentiment = max(results, key = results.get) \n",
    "        score = results[sentiment]  \n",
    "\n",
    "        sentiments = np.append(sentiments, sentiment) \n",
    "        scores = np.append(scores, score)\n",
    "\n",
    "    new_df = df.copy() \n",
    "    new_df['sentiment'] = sentiments \n",
    "    new_df['sentiment_pscore'] = scores \n",
    "\n",
    "    return new_df"
   ]
  },
  {
   "cell_type": "code",
   "execution_count": 21,
   "metadata": {},
   "outputs": [],
   "source": [
    "sentiment_df = add_sentiment(comments_df)"
   ]
  },
  {
   "cell_type": "code",
   "execution_count": 22,
   "metadata": {},
   "outputs": [
    {
     "data": {
      "text/html": [
       "<div>\n",
       "<style scoped>\n",
       "    .dataframe tbody tr th:only-of-type {\n",
       "        vertical-align: middle;\n",
       "    }\n",
       "\n",
       "    .dataframe tbody tr th {\n",
       "        vertical-align: top;\n",
       "    }\n",
       "\n",
       "    .dataframe thead th {\n",
       "        text-align: right;\n",
       "    }\n",
       "</style>\n",
       "<table border=\"1\" class=\"dataframe\">\n",
       "  <thead>\n",
       "    <tr style=\"text-align: right;\">\n",
       "      <th></th>\n",
       "      <th>ticker</th>\n",
       "      <th>subreddit</th>\n",
       "      <th>post_title</th>\n",
       "      <th>content</th>\n",
       "      <th>upvotes</th>\n",
       "      <th>replies</th>\n",
       "      <th>sticked</th>\n",
       "      <th>author_comment_karma</th>\n",
       "      <th>author_verified</th>\n",
       "      <th>time</th>\n",
       "      <th>sentiment</th>\n",
       "      <th>sentiment_pscore</th>\n",
       "    </tr>\n",
       "  </thead>\n",
       "  <tbody>\n",
       "    <tr>\n",
       "      <th>0</th>\n",
       "      <td>SPY</td>\n",
       "      <td>wallstreetbets</td>\n",
       "      <td>CBOE to add Spy and QQQ options on Tuesday and...</td>\n",
       "      <td>No fucking way!!! Omfg, the algos will be hedg...</td>\n",
       "      <td>47</td>\n",
       "      <td>2</td>\n",
       "      <td>False</td>\n",
       "      <td>29668</td>\n",
       "      <td>True</td>\n",
       "      <td>2022-11-13</td>\n",
       "      <td>neu</td>\n",
       "      <td>0.741</td>\n",
       "    </tr>\n",
       "    <tr>\n",
       "      <th>1</th>\n",
       "      <td>SPY</td>\n",
       "      <td>wallstreetbets</td>\n",
       "      <td>CBOE to add Spy and QQQ options on Tuesday and...</td>\n",
       "      <td>Calls on gain porn. And loss porn.</td>\n",
       "      <td>28</td>\n",
       "      <td>0</td>\n",
       "      <td>False</td>\n",
       "      <td>558</td>\n",
       "      <td>False</td>\n",
       "      <td>2022-11-13</td>\n",
       "      <td>neu</td>\n",
       "      <td>0.467</td>\n",
       "    </tr>\n",
       "    <tr>\n",
       "      <th>2</th>\n",
       "      <td>SPY</td>\n",
       "      <td>wallstreetbets</td>\n",
       "      <td>CBOE to add Spy and QQQ options on Tuesday and...</td>\n",
       "      <td>Now I can sell SPY/QQQ spreads to regards ever...</td>\n",
       "      <td>22</td>\n",
       "      <td>0</td>\n",
       "      <td>False</td>\n",
       "      <td>4087</td>\n",
       "      <td>True</td>\n",
       "      <td>2022-11-13</td>\n",
       "      <td>neu</td>\n",
       "      <td>0.760</td>\n",
       "    </tr>\n",
       "    <tr>\n",
       "      <th>3</th>\n",
       "      <td>SPY</td>\n",
       "      <td>wallstreetbets</td>\n",
       "      <td>CBOE to add Spy and QQQ options on Tuesday and...</td>\n",
       "      <td>I keep looking for the blue checkmark to see i...</td>\n",
       "      <td>21</td>\n",
       "      <td>0</td>\n",
       "      <td>False</td>\n",
       "      <td>1940</td>\n",
       "      <td>True</td>\n",
       "      <td>2022-11-13</td>\n",
       "      <td>neu</td>\n",
       "      <td>1.000</td>\n",
       "    </tr>\n",
       "    <tr>\n",
       "      <th>4</th>\n",
       "      <td>SPY</td>\n",
       "      <td>wallstreetbets</td>\n",
       "      <td>CBOE to add Spy and QQQ options on Tuesday and...</td>\n",
       "      <td>Let the real casino begin.</td>\n",
       "      <td>16</td>\n",
       "      <td>1</td>\n",
       "      <td>False</td>\n",
       "      <td>1322</td>\n",
       "      <td>True</td>\n",
       "      <td>2022-11-13</td>\n",
       "      <td>neu</td>\n",
       "      <td>1.000</td>\n",
       "    </tr>\n",
       "  </tbody>\n",
       "</table>\n",
       "</div>"
      ],
      "text/plain": [
       "  ticker       subreddit                                         post_title  \\\n",
       "0    SPY  wallstreetbets  CBOE to add Spy and QQQ options on Tuesday and...   \n",
       "1    SPY  wallstreetbets  CBOE to add Spy and QQQ options on Tuesday and...   \n",
       "2    SPY  wallstreetbets  CBOE to add Spy and QQQ options on Tuesday and...   \n",
       "3    SPY  wallstreetbets  CBOE to add Spy and QQQ options on Tuesday and...   \n",
       "4    SPY  wallstreetbets  CBOE to add Spy and QQQ options on Tuesday and...   \n",
       "\n",
       "                                             content  upvotes  replies  \\\n",
       "0  No fucking way!!! Omfg, the algos will be hedg...       47        2   \n",
       "1                 Calls on gain porn. And loss porn.       28        0   \n",
       "2  Now I can sell SPY/QQQ spreads to regards ever...       22        0   \n",
       "3  I keep looking for the blue checkmark to see i...       21        0   \n",
       "4                         Let the real casino begin.       16        1   \n",
       "\n",
       "   sticked  author_comment_karma  author_verified        time sentiment  \\\n",
       "0    False                 29668             True  2022-11-13       neu   \n",
       "1    False                   558            False  2022-11-13       neu   \n",
       "2    False                  4087             True  2022-11-13       neu   \n",
       "3    False                  1940             True  2022-11-13       neu   \n",
       "4    False                  1322             True  2022-11-13       neu   \n",
       "\n",
       "   sentiment_pscore  \n",
       "0             0.741  \n",
       "1             0.467  \n",
       "2             0.760  \n",
       "3             1.000  \n",
       "4             1.000  "
      ]
     },
     "execution_count": 22,
     "metadata": {},
     "output_type": "execute_result"
    }
   ],
   "source": [
    "sentiment_df.head()"
   ]
  },
  {
   "cell_type": "markdown",
   "metadata": {},
   "source": [
    "# Feature Engineering"
   ]
  },
  {
   "cell_type": "code",
   "execution_count": 25,
   "metadata": {},
   "outputs": [],
   "source": [
    "# to do\n"
   ]
  },
  {
   "cell_type": "markdown",
   "metadata": {},
   "source": [
    "# Simple Clustering"
   ]
  },
  {
   "cell_type": "code",
   "execution_count": 56,
   "metadata": {},
   "outputs": [
    {
     "data": {
      "text/html": [
       "<div>\n",
       "<style scoped>\n",
       "    .dataframe tbody tr th:only-of-type {\n",
       "        vertical-align: middle;\n",
       "    }\n",
       "\n",
       "    .dataframe tbody tr th {\n",
       "        vertical-align: top;\n",
       "    }\n",
       "\n",
       "    .dataframe thead th {\n",
       "        text-align: right;\n",
       "    }\n",
       "</style>\n",
       "<table border=\"1\" class=\"dataframe\">\n",
       "  <thead>\n",
       "    <tr style=\"text-align: right;\">\n",
       "      <th></th>\n",
       "      <th>sentiment_pscore</th>\n",
       "      <th>upvotes</th>\n",
       "      <th>replies</th>\n",
       "      <th>upvotes</th>\n",
       "      <th>author_comment_karma</th>\n",
       "    </tr>\n",
       "  </thead>\n",
       "  <tbody>\n",
       "    <tr>\n",
       "      <th>0</th>\n",
       "      <td>0.741</td>\n",
       "      <td>47</td>\n",
       "      <td>2</td>\n",
       "      <td>47</td>\n",
       "      <td>29668</td>\n",
       "    </tr>\n",
       "    <tr>\n",
       "      <th>1</th>\n",
       "      <td>0.467</td>\n",
       "      <td>28</td>\n",
       "      <td>0</td>\n",
       "      <td>28</td>\n",
       "      <td>558</td>\n",
       "    </tr>\n",
       "    <tr>\n",
       "      <th>2</th>\n",
       "      <td>0.760</td>\n",
       "      <td>22</td>\n",
       "      <td>0</td>\n",
       "      <td>22</td>\n",
       "      <td>4087</td>\n",
       "    </tr>\n",
       "    <tr>\n",
       "      <th>3</th>\n",
       "      <td>1.000</td>\n",
       "      <td>21</td>\n",
       "      <td>0</td>\n",
       "      <td>21</td>\n",
       "      <td>1940</td>\n",
       "    </tr>\n",
       "    <tr>\n",
       "      <th>4</th>\n",
       "      <td>1.000</td>\n",
       "      <td>16</td>\n",
       "      <td>1</td>\n",
       "      <td>16</td>\n",
       "      <td>1322</td>\n",
       "    </tr>\n",
       "  </tbody>\n",
       "</table>\n",
       "</div>"
      ],
      "text/plain": [
       "   sentiment_pscore  upvotes  replies  upvotes  author_comment_karma\n",
       "0             0.741       47        2       47                 29668\n",
       "1             0.467       28        0       28                   558\n",
       "2             0.760       22        0       22                  4087\n",
       "3             1.000       21        0       21                  1940\n",
       "4             1.000       16        1       16                  1322"
      ]
     },
     "execution_count": 56,
     "metadata": {},
     "output_type": "execute_result"
    }
   ],
   "source": [
    "cluster_df = sentiment_df[['sentiment_pscore', 'upvotes', 'replies', 'upvotes', 'author_comment_karma']].copy()\n",
    "cluster_df.head()"
   ]
  },
  {
   "cell_type": "code",
   "execution_count": 117,
   "metadata": {},
   "outputs": [],
   "source": [
    "kmeans = KMeans(n_clusters= 2, random_state = 11) "
   ]
  },
  {
   "cell_type": "code",
   "execution_count": 118,
   "metadata": {},
   "outputs": [
    {
     "data": {
      "text/html": [
       "<style>#sk-container-id-8 {color: black;background-color: white;}#sk-container-id-8 pre{padding: 0;}#sk-container-id-8 div.sk-toggleable {background-color: white;}#sk-container-id-8 label.sk-toggleable__label {cursor: pointer;display: block;width: 100%;margin-bottom: 0;padding: 0.3em;box-sizing: border-box;text-align: center;}#sk-container-id-8 label.sk-toggleable__label-arrow:before {content: \"▸\";float: left;margin-right: 0.25em;color: #696969;}#sk-container-id-8 label.sk-toggleable__label-arrow:hover:before {color: black;}#sk-container-id-8 div.sk-estimator:hover label.sk-toggleable__label-arrow:before {color: black;}#sk-container-id-8 div.sk-toggleable__content {max-height: 0;max-width: 0;overflow: hidden;text-align: left;background-color: #f0f8ff;}#sk-container-id-8 div.sk-toggleable__content pre {margin: 0.2em;color: black;border-radius: 0.25em;background-color: #f0f8ff;}#sk-container-id-8 input.sk-toggleable__control:checked~div.sk-toggleable__content {max-height: 200px;max-width: 100%;overflow: auto;}#sk-container-id-8 input.sk-toggleable__control:checked~label.sk-toggleable__label-arrow:before {content: \"▾\";}#sk-container-id-8 div.sk-estimator input.sk-toggleable__control:checked~label.sk-toggleable__label {background-color: #d4ebff;}#sk-container-id-8 div.sk-label input.sk-toggleable__control:checked~label.sk-toggleable__label {background-color: #d4ebff;}#sk-container-id-8 input.sk-hidden--visually {border: 0;clip: rect(1px 1px 1px 1px);clip: rect(1px, 1px, 1px, 1px);height: 1px;margin: -1px;overflow: hidden;padding: 0;position: absolute;width: 1px;}#sk-container-id-8 div.sk-estimator {font-family: monospace;background-color: #f0f8ff;border: 1px dotted black;border-radius: 0.25em;box-sizing: border-box;margin-bottom: 0.5em;}#sk-container-id-8 div.sk-estimator:hover {background-color: #d4ebff;}#sk-container-id-8 div.sk-parallel-item::after {content: \"\";width: 100%;border-bottom: 1px solid gray;flex-grow: 1;}#sk-container-id-8 div.sk-label:hover label.sk-toggleable__label {background-color: #d4ebff;}#sk-container-id-8 div.sk-serial::before {content: \"\";position: absolute;border-left: 1px solid gray;box-sizing: border-box;top: 0;bottom: 0;left: 50%;z-index: 0;}#sk-container-id-8 div.sk-serial {display: flex;flex-direction: column;align-items: center;background-color: white;padding-right: 0.2em;padding-left: 0.2em;position: relative;}#sk-container-id-8 div.sk-item {position: relative;z-index: 1;}#sk-container-id-8 div.sk-parallel {display: flex;align-items: stretch;justify-content: center;background-color: white;position: relative;}#sk-container-id-8 div.sk-item::before, #sk-container-id-8 div.sk-parallel-item::before {content: \"\";position: absolute;border-left: 1px solid gray;box-sizing: border-box;top: 0;bottom: 0;left: 50%;z-index: -1;}#sk-container-id-8 div.sk-parallel-item {display: flex;flex-direction: column;z-index: 1;position: relative;background-color: white;}#sk-container-id-8 div.sk-parallel-item:first-child::after {align-self: flex-end;width: 50%;}#sk-container-id-8 div.sk-parallel-item:last-child::after {align-self: flex-start;width: 50%;}#sk-container-id-8 div.sk-parallel-item:only-child::after {width: 0;}#sk-container-id-8 div.sk-dashed-wrapped {border: 1px dashed gray;margin: 0 0.4em 0.5em 0.4em;box-sizing: border-box;padding-bottom: 0.4em;background-color: white;}#sk-container-id-8 div.sk-label label {font-family: monospace;font-weight: bold;display: inline-block;line-height: 1.2em;}#sk-container-id-8 div.sk-label-container {text-align: center;}#sk-container-id-8 div.sk-container {/* jupyter's `normalize.less` sets `[hidden] { display: none; }` but bootstrap.min.css set `[hidden] { display: none !important; }` so we also need the `!important` here to be able to override the default hidden behavior on the sphinx rendered scikit-learn.org. See: https://github.com/scikit-learn/scikit-learn/issues/21755 */display: inline-block !important;position: relative;}#sk-container-id-8 div.sk-text-repr-fallback {display: none;}</style><div id=\"sk-container-id-8\" class=\"sk-top-container\"><div class=\"sk-text-repr-fallback\"><pre>KMeans(n_clusters=2, random_state=11)</pre><b>In a Jupyter environment, please rerun this cell to show the HTML representation or trust the notebook. <br />On GitHub, the HTML representation is unable to render, please try loading this page with nbviewer.org.</b></div><div class=\"sk-container\" hidden><div class=\"sk-item\"><div class=\"sk-estimator sk-toggleable\"><input class=\"sk-toggleable__control sk-hidden--visually\" id=\"sk-estimator-id-8\" type=\"checkbox\" checked><label for=\"sk-estimator-id-8\" class=\"sk-toggleable__label sk-toggleable__label-arrow\">KMeans</label><div class=\"sk-toggleable__content\"><pre>KMeans(n_clusters=2, random_state=11)</pre></div></div></div></div></div>"
      ],
      "text/plain": [
       "KMeans(n_clusters=2, random_state=11)"
      ]
     },
     "execution_count": 118,
     "metadata": {},
     "output_type": "execute_result"
    }
   ],
   "source": [
    "kmeans.fit(cluster_df)"
   ]
  },
  {
   "cell_type": "code",
   "execution_count": 119,
   "metadata": {},
   "outputs": [],
   "source": [
    "labels = kmeans.labels_"
   ]
  },
  {
   "cell_type": "code",
   "execution_count": 120,
   "metadata": {},
   "outputs": [
    {
     "data": {
      "text/plain": [
       "array([[8.18775000e-01, 9.25000000e+00, 4.19444444e-01, 9.25000000e+00,\n",
       "        1.31454333e+04],\n",
       "       [8.01000000e-01, 1.62222222e+01, 1.16666667e+00, 1.62222222e+01,\n",
       "        2.98570000e+05]])"
      ]
     },
     "execution_count": 120,
     "metadata": {},
     "output_type": "execute_result"
    }
   ],
   "source": [
    "centers = kmeans.cluster_centers_\n",
    "centers"
   ]
  },
  {
   "cell_type": "code",
   "execution_count": null,
   "metadata": {},
   "outputs": [],
   "source": [
    "#reduce the dimension 5 to 2 dimensions to vizualise the dataset \n",
    "data_embed = TSNE(n_components=2, perplexity=50, verbose=2, method='barnes_hut').fit_transform(cluster_df.to_numpy())"
   ]
  },
  {
   "cell_type": "code",
   "execution_count": 173,
   "metadata": {},
   "outputs": [],
   "source": [
    "kmeans.fit(data_embed)\n",
    "labels = kmeans.labels_"
   ]
  },
  {
   "cell_type": "code",
   "execution_count": 174,
   "metadata": {},
   "outputs": [
    {
     "data": {
      "image/png": "[encoded data removed]",
      "text/plain": [
       "<Figure size 640x480 with 1 Axes>"
      ]
     },
     "metadata": {},
     "output_type": "display_data"
    }
   ],
   "source": [
    "clusters = ['Cluster 1', 'Cluster 2']\n",
    "x, y = data_embed[:, 0], data_embed[:, 1]\n",
    "\n",
    "\n",
    "fig, ax = plt.subplots()\n",
    "scatter = ax.scatter(x, y, c=labels, s=20 ,cmap=\"Spectral\")\n",
    "\n",
    "legend = ax.legend(*scatter.legend_elements(num=1),\n",
    "                    loc=\"upper left\", title=\"Cluster\")\n",
    "\n",
    "ax.add_artist(legend)\n",
    "plt.title(\"Post - PCA Clustering\");\n"
   ]
  },
  {
   "cell_type": "markdown",
   "metadata": {},
   "source": [
    "# Clustering w/ Additional Features "
   ]
  },
  {
   "cell_type": "code",
   "execution_count": 180,
   "metadata": {},
   "outputs": [
    {
     "data": {
      "text/plain": [
       "Index(['post_title', 'content', 'upvotes', 'replies', 'author_comment_karma',\n",
       "       'time', 'sentiment_pscore', 'ticker_F', 'ticker_NIO', 'ticker_QQQ',\n",
       "       'ticker_SNAP', 'ticker_SPY', 'ticker_TSLA', 'subreddit_stocks',\n",
       "       'subreddit_wallstreetbets', 'sticked_False', 'sticked_True',\n",
       "       'author_verified_False', 'author_verified_True', 'sentiment_neg',\n",
       "       'sentiment_neu', 'sentiment_pos'],\n",
       "      dtype='object')"
      ]
     },
     "execution_count": 180,
     "metadata": {},
     "output_type": "execute_result"
    }
   ],
   "source": [
    "dummies = pd.get_dummies(data = sentiment_df, columns = ['ticker', 'subreddit', 'sticked', 'author_verified', 'sentiment'])\n",
    "dummies.columns"
   ]
  },
  {
   "cell_type": "code",
   "execution_count": 181,
   "metadata": {},
   "outputs": [
    {
     "data": {
      "text/html": [
       "<div>\n",
       "<style scoped>\n",
       "    .dataframe tbody tr th:only-of-type {\n",
       "        vertical-align: middle;\n",
       "    }\n",
       "\n",
       "    .dataframe tbody tr th {\n",
       "        vertical-align: top;\n",
       "    }\n",
       "\n",
       "    .dataframe thead th {\n",
       "        text-align: right;\n",
       "    }\n",
       "</style>\n",
       "<table border=\"1\" class=\"dataframe\">\n",
       "  <thead>\n",
       "    <tr style=\"text-align: right;\">\n",
       "      <th></th>\n",
       "      <th>upvotes</th>\n",
       "      <th>replies</th>\n",
       "      <th>author_comment_karma</th>\n",
       "      <th>sentiment_pscore</th>\n",
       "      <th>ticker_F</th>\n",
       "      <th>ticker_NIO</th>\n",
       "      <th>ticker_QQQ</th>\n",
       "      <th>ticker_SNAP</th>\n",
       "      <th>ticker_SPY</th>\n",
       "      <th>ticker_TSLA</th>\n",
       "      <th>subreddit_stocks</th>\n",
       "      <th>subreddit_wallstreetbets</th>\n",
       "      <th>sticked_True</th>\n",
       "      <th>author_verified_True</th>\n",
       "      <th>sentiment_neg</th>\n",
       "      <th>sentiment_neu</th>\n",
       "      <th>sentiment_pos</th>\n",
       "    </tr>\n",
       "  </thead>\n",
       "  <tbody>\n",
       "    <tr>\n",
       "      <th>0</th>\n",
       "      <td>47</td>\n",
       "      <td>2</td>\n",
       "      <td>29668</td>\n",
       "      <td>0.741</td>\n",
       "      <td>0</td>\n",
       "      <td>0</td>\n",
       "      <td>0</td>\n",
       "      <td>0</td>\n",
       "      <td>1</td>\n",
       "      <td>0</td>\n",
       "      <td>0</td>\n",
       "      <td>1</td>\n",
       "      <td>0</td>\n",
       "      <td>1</td>\n",
       "      <td>0</td>\n",
       "      <td>1</td>\n",
       "      <td>0</td>\n",
       "    </tr>\n",
       "    <tr>\n",
       "      <th>1</th>\n",
       "      <td>28</td>\n",
       "      <td>0</td>\n",
       "      <td>558</td>\n",
       "      <td>0.467</td>\n",
       "      <td>0</td>\n",
       "      <td>0</td>\n",
       "      <td>0</td>\n",
       "      <td>0</td>\n",
       "      <td>1</td>\n",
       "      <td>0</td>\n",
       "      <td>0</td>\n",
       "      <td>1</td>\n",
       "      <td>0</td>\n",
       "      <td>0</td>\n",
       "      <td>0</td>\n",
       "      <td>1</td>\n",
       "      <td>0</td>\n",
       "    </tr>\n",
       "    <tr>\n",
       "      <th>2</th>\n",
       "      <td>22</td>\n",
       "      <td>0</td>\n",
       "      <td>4087</td>\n",
       "      <td>0.760</td>\n",
       "      <td>0</td>\n",
       "      <td>0</td>\n",
       "      <td>0</td>\n",
       "      <td>0</td>\n",
       "      <td>1</td>\n",
       "      <td>0</td>\n",
       "      <td>0</td>\n",
       "      <td>1</td>\n",
       "      <td>0</td>\n",
       "      <td>1</td>\n",
       "      <td>0</td>\n",
       "      <td>1</td>\n",
       "      <td>0</td>\n",
       "    </tr>\n",
       "    <tr>\n",
       "      <th>3</th>\n",
       "      <td>21</td>\n",
       "      <td>0</td>\n",
       "      <td>1940</td>\n",
       "      <td>1.000</td>\n",
       "      <td>0</td>\n",
       "      <td>0</td>\n",
       "      <td>0</td>\n",
       "      <td>0</td>\n",
       "      <td>1</td>\n",
       "      <td>0</td>\n",
       "      <td>0</td>\n",
       "      <td>1</td>\n",
       "      <td>0</td>\n",
       "      <td>1</td>\n",
       "      <td>0</td>\n",
       "      <td>1</td>\n",
       "      <td>0</td>\n",
       "    </tr>\n",
       "    <tr>\n",
       "      <th>4</th>\n",
       "      <td>16</td>\n",
       "      <td>1</td>\n",
       "      <td>1322</td>\n",
       "      <td>1.000</td>\n",
       "      <td>0</td>\n",
       "      <td>0</td>\n",
       "      <td>0</td>\n",
       "      <td>0</td>\n",
       "      <td>1</td>\n",
       "      <td>0</td>\n",
       "      <td>0</td>\n",
       "      <td>1</td>\n",
       "      <td>0</td>\n",
       "      <td>1</td>\n",
       "      <td>0</td>\n",
       "      <td>1</td>\n",
       "      <td>0</td>\n",
       "    </tr>\n",
       "  </tbody>\n",
       "</table>\n",
       "</div>"
      ],
      "text/plain": [
       "   upvotes  replies  author_comment_karma  sentiment_pscore  ticker_F  \\\n",
       "0       47        2                 29668             0.741         0   \n",
       "1       28        0                   558             0.467         0   \n",
       "2       22        0                  4087             0.760         0   \n",
       "3       21        0                  1940             1.000         0   \n",
       "4       16        1                  1322             1.000         0   \n",
       "\n",
       "   ticker_NIO  ticker_QQQ  ticker_SNAP  ticker_SPY  ticker_TSLA  \\\n",
       "0           0           0            0           1            0   \n",
       "1           0           0            0           1            0   \n",
       "2           0           0            0           1            0   \n",
       "3           0           0            0           1            0   \n",
       "4           0           0            0           1            0   \n",
       "\n",
       "   subreddit_stocks  subreddit_wallstreetbets  sticked_True  \\\n",
       "0                 0                         1             0   \n",
       "1                 0                         1             0   \n",
       "2                 0                         1             0   \n",
       "3                 0                         1             0   \n",
       "4                 0                         1             0   \n",
       "\n",
       "   author_verified_True  sentiment_neg  sentiment_neu  sentiment_pos  \n",
       "0                     1              0              1              0  \n",
       "1                     0              0              1              0  \n",
       "2                     1              0              1              0  \n",
       "3                     1              0              1              0  \n",
       "4                     1              0              1              0  "
      ]
     },
     "execution_count": 181,
     "metadata": {},
     "output_type": "execute_result"
    }
   ],
   "source": [
    "cluster_df = dummies.drop(['post_title', 'content', 'time', 'sticked_False', 'author_verified_False'], axis = 1)\n",
    "cluster_df.head()"
   ]
  },
  {
   "cell_type": "code",
   "execution_count": null,
   "metadata": {},
   "outputs": [],
   "source": [
    "data_embed = TSNE(n_components=2, perplexity=50, verbose=2, method='barnes_hut').fit_transform(cluster_df.to_numpy())"
   ]
  },
  {
   "cell_type": "code",
   "execution_count": 184,
   "metadata": {},
   "outputs": [],
   "source": [
    "kmeans = KMeans(n_clusters= 2, random_state = 11) \n",
    "kmeans.fit(data_embed)\n",
    "labels = kmeans.labels_"
   ]
  },
  {
   "cell_type": "code",
   "execution_count": 185,
   "metadata": {},
   "outputs": [
    {
     "data": {
      "image/png": "[encoded data removed]",
      "text/plain": [
       "<Figure size 640x480 with 1 Axes>"
      ]
     },
     "metadata": {},
     "output_type": "display_data"
    }
   ],
   "source": [
    "clusters = ['Cluster 1', 'Cluster 2']\n",
    "x, y = data_embed[:, 0], data_embed[:, 1]\n",
    "\n",
    "\n",
    "fig, ax = plt.subplots()\n",
    "scatter = ax.scatter(x, y, c=labels, s=20 ,cmap=\"Spectral\")\n",
    "\n",
    "legend = ax.legend(*scatter.legend_elements(num=1),\n",
    "                    loc=\"upper left\", title=\"Cluster\")\n",
    "\n",
    "ax.add_artist(legend)\n",
    "plt.title(\"Post - PCA Clustering\");\n"
   ]
  },
  {
   "cell_type": "markdown",
   "metadata": {},
   "source": [
    "# Clustering w/ Normalization"
   ]
  },
  {
   "cell_type": "code",
   "execution_count": 186,
   "metadata": {},
   "outputs": [
    {
     "data": {
      "text/html": [
       "<div>\n",
       "<style scoped>\n",
       "    .dataframe tbody tr th:only-of-type {\n",
       "        vertical-align: middle;\n",
       "    }\n",
       "\n",
       "    .dataframe tbody tr th {\n",
       "        vertical-align: top;\n",
       "    }\n",
       "\n",
       "    .dataframe thead th {\n",
       "        text-align: right;\n",
       "    }\n",
       "</style>\n",
       "<table border=\"1\" class=\"dataframe\">\n",
       "  <thead>\n",
       "    <tr style=\"text-align: right;\">\n",
       "      <th></th>\n",
       "      <th>0</th>\n",
       "      <th>1</th>\n",
       "      <th>2</th>\n",
       "      <th>3</th>\n",
       "      <th>4</th>\n",
       "      <th>5</th>\n",
       "      <th>6</th>\n",
       "      <th>7</th>\n",
       "      <th>8</th>\n",
       "      <th>9</th>\n",
       "      <th>10</th>\n",
       "      <th>11</th>\n",
       "      <th>12</th>\n",
       "      <th>13</th>\n",
       "      <th>14</th>\n",
       "      <th>15</th>\n",
       "      <th>16</th>\n",
       "    </tr>\n",
       "  </thead>\n",
       "  <tbody>\n",
       "    <tr>\n",
       "      <th>0</th>\n",
       "      <td>0.001584</td>\n",
       "      <td>0.000067</td>\n",
       "      <td>0.999999</td>\n",
       "      <td>0.000025</td>\n",
       "      <td>0.0</td>\n",
       "      <td>0.0</td>\n",
       "      <td>0.0</td>\n",
       "      <td>0.0</td>\n",
       "      <td>0.000034</td>\n",
       "      <td>0.0</td>\n",
       "      <td>0.0</td>\n",
       "      <td>0.000034</td>\n",
       "      <td>0.0</td>\n",
       "      <td>0.000034</td>\n",
       "      <td>0.0</td>\n",
       "      <td>0.000034</td>\n",
       "      <td>0.0</td>\n",
       "    </tr>\n",
       "    <tr>\n",
       "      <th>1</th>\n",
       "      <td>0.050116</td>\n",
       "      <td>0.000000</td>\n",
       "      <td>0.998738</td>\n",
       "      <td>0.000836</td>\n",
       "      <td>0.0</td>\n",
       "      <td>0.0</td>\n",
       "      <td>0.0</td>\n",
       "      <td>0.0</td>\n",
       "      <td>0.001790</td>\n",
       "      <td>0.0</td>\n",
       "      <td>0.0</td>\n",
       "      <td>0.001790</td>\n",
       "      <td>0.0</td>\n",
       "      <td>0.000000</td>\n",
       "      <td>0.0</td>\n",
       "      <td>0.001790</td>\n",
       "      <td>0.0</td>\n",
       "    </tr>\n",
       "    <tr>\n",
       "      <th>2</th>\n",
       "      <td>0.005383</td>\n",
       "      <td>0.000000</td>\n",
       "      <td>0.999985</td>\n",
       "      <td>0.000186</td>\n",
       "      <td>0.0</td>\n",
       "      <td>0.0</td>\n",
       "      <td>0.0</td>\n",
       "      <td>0.0</td>\n",
       "      <td>0.000245</td>\n",
       "      <td>0.0</td>\n",
       "      <td>0.0</td>\n",
       "      <td>0.000245</td>\n",
       "      <td>0.0</td>\n",
       "      <td>0.000245</td>\n",
       "      <td>0.0</td>\n",
       "      <td>0.000245</td>\n",
       "      <td>0.0</td>\n",
       "    </tr>\n",
       "    <tr>\n",
       "      <th>3</th>\n",
       "      <td>0.010824</td>\n",
       "      <td>0.000000</td>\n",
       "      <td>0.999941</td>\n",
       "      <td>0.000515</td>\n",
       "      <td>0.0</td>\n",
       "      <td>0.0</td>\n",
       "      <td>0.0</td>\n",
       "      <td>0.0</td>\n",
       "      <td>0.000515</td>\n",
       "      <td>0.0</td>\n",
       "      <td>0.0</td>\n",
       "      <td>0.000515</td>\n",
       "      <td>0.0</td>\n",
       "      <td>0.000515</td>\n",
       "      <td>0.0</td>\n",
       "      <td>0.000515</td>\n",
       "      <td>0.0</td>\n",
       "    </tr>\n",
       "    <tr>\n",
       "      <th>4</th>\n",
       "      <td>0.012102</td>\n",
       "      <td>0.000756</td>\n",
       "      <td>0.999925</td>\n",
       "      <td>0.000756</td>\n",
       "      <td>0.0</td>\n",
       "      <td>0.0</td>\n",
       "      <td>0.0</td>\n",
       "      <td>0.0</td>\n",
       "      <td>0.000756</td>\n",
       "      <td>0.0</td>\n",
       "      <td>0.0</td>\n",
       "      <td>0.000756</td>\n",
       "      <td>0.0</td>\n",
       "      <td>0.000756</td>\n",
       "      <td>0.0</td>\n",
       "      <td>0.000756</td>\n",
       "      <td>0.0</td>\n",
       "    </tr>\n",
       "  </tbody>\n",
       "</table>\n",
       "</div>"
      ],
      "text/plain": [
       "         0         1         2         3    4    5    6    7         8    9   \\\n",
       "0  0.001584  0.000067  0.999999  0.000025  0.0  0.0  0.0  0.0  0.000034  0.0   \n",
       "1  0.050116  0.000000  0.998738  0.000836  0.0  0.0  0.0  0.0  0.001790  0.0   \n",
       "2  0.005383  0.000000  0.999985  0.000186  0.0  0.0  0.0  0.0  0.000245  0.0   \n",
       "3  0.010824  0.000000  0.999941  0.000515  0.0  0.0  0.0  0.0  0.000515  0.0   \n",
       "4  0.012102  0.000756  0.999925  0.000756  0.0  0.0  0.0  0.0  0.000756  0.0   \n",
       "\n",
       "    10        11   12        13   14        15   16  \n",
       "0  0.0  0.000034  0.0  0.000034  0.0  0.000034  0.0  \n",
       "1  0.0  0.001790  0.0  0.000000  0.0  0.001790  0.0  \n",
       "2  0.0  0.000245  0.0  0.000245  0.0  0.000245  0.0  \n",
       "3  0.0  0.000515  0.0  0.000515  0.0  0.000515  0.0  \n",
       "4  0.0  0.000756  0.0  0.000756  0.0  0.000756  0.0  "
      ]
     },
     "execution_count": 186,
     "metadata": {},
     "output_type": "execute_result"
    }
   ],
   "source": [
    "norm_cluster_df = pd.DataFrame(normalize(cluster_df))\n",
    "norm_cluster_df.head()"
   ]
  },
  {
   "cell_type": "code",
   "execution_count": null,
   "metadata": {},
   "outputs": [],
   "source": [
    "norm_data_embed = TSNE(n_components=2, perplexity=50, verbose=2, method='barnes_hut').fit_transform(norm_cluster_df.to_numpy())"
   ]
  },
  {
   "cell_type": "code",
   "execution_count": 188,
   "metadata": {},
   "outputs": [],
   "source": [
    "kmeans = KMeans(n_clusters= 2, random_state = 11) \n",
    "kmeans.fit(norm_data_embed)\n",
    "labels = kmeans.labels_"
   ]
  },
  {
   "cell_type": "code",
   "execution_count": 189,
   "metadata": {},
   "outputs": [
    {
     "data": {
      "image/png": "[encoded data removed]",
      "text/plain": [
       "<Figure size 640x480 with 1 Axes>"
      ]
     },
     "metadata": {},
     "output_type": "display_data"
    }
   ],
   "source": [
    "clusters = ['Cluster 1', 'Cluster 2']\n",
    "x, y = norm_data_embed[:, 0], norm_data_embed[:, 1]\n",
    "\n",
    "\n",
    "fig, ax = plt.subplots()\n",
    "scatter = ax.scatter(x, y, c=labels, s=20 ,cmap=\"Spectral\")\n",
    "\n",
    "legend = ax.legend(*scatter.legend_elements(num=1),\n",
    "                    loc=\"upper left\", title=\"Cluster\")\n",
    "\n",
    "ax.add_artist(legend)\n",
    "plt.title(\"Post - PCA Clustering\");\n"
   ]
  },
  {
   "cell_type": "code",
   "execution_count": null,
   "metadata": {},
   "outputs": [],
   "source": []
  }
 ],
 "metadata": {
  "kernelspec": {
   "display_name": "Python 3.8.3 64-bit",
   "language": "python",
   "name": "python3"
  },
  "language_info": {
   "codemirror_mode": {
    "name": "ipython",
    "version": 3
   },
   "file_extension": ".py",
   "mimetype": "text/x-python",
   "name": "python",
   "nbconvert_exporter": "python",
   "pygments_lexer": "ipython3",
   "version": "3.8.3"
  },
  "orig_nbformat": 4,
  "vscode": {
   "interpreter": {
    "hash": "f6137767cd5a1185f0adfe5ac38846a9103bfc8540bec40d423695759fa94714"
   }
  }
 },
 "nbformat": 4,
 "nbformat_minor": 2
}
